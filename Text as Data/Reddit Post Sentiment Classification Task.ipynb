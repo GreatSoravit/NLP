{
 "cells": [
  {
   "cell_type": "markdown",
   "metadata": {
    "id": "2gv2i9fNDvrg"
   },
   "source": [
    "## Post Sentiment Classification Task"
   ]
  },
  {
   "cell_type": "code",
   "execution_count": 3,
   "metadata": {
    "id": "ZG9BpbQt3-ko"
   },
   "outputs": [],
   "source": [
    "import pandas as pd\n",
    "import numpy as np\n",
    "\n",
    "train_data = pd.read_json(\"https://raw.githubusercontent.com/rpsoft/tad_course/main/reddit_sentiment_train.json\")\n",
    "\n",
    "validation_data = pd.read_json(\"https://raw.githubusercontent.com/rpsoft/tad_course/main/reddit_sentiment_validation.json\")\n",
    "\n",
    "test_data = pd.read_json(\"https://raw.githubusercontent.com/rpsoft/tad_course/main/reddit_sentiment_test.json\")"
   ]
  },
  {
   "cell_type": "code",
   "execution_count": 4,
   "metadata": {
    "colab": {
     "base_uri": "https://localhost:8080/",
     "height": 564
    },
    "id": "REvXkGRbdx0i",
    "outputId": "75f3a404-9221-4c25-a63c-004161c18a9a"
   },
   "outputs": [
    {
     "data": {
      "text/html": [
       "<div>\n",
       "<style scoped>\n",
       "    .dataframe tbody tr th:only-of-type {\n",
       "        vertical-align: middle;\n",
       "    }\n",
       "\n",
       "    .dataframe tbody tr th {\n",
       "        vertical-align: top;\n",
       "    }\n",
       "\n",
       "    .dataframe thead th {\n",
       "        text-align: right;\n",
       "    }\n",
       "</style>\n",
       "<table border=\"1\" class=\"dataframe\">\n",
       "  <thead>\n",
       "    <tr style=\"text-align: right;\">\n",
       "      <th></th>\n",
       "      <th>subreddit</th>\n",
       "      <th>title</th>\n",
       "      <th>id</th>\n",
       "      <th>url</th>\n",
       "      <th>author</th>\n",
       "      <th>body</th>\n",
       "      <th>majority_type</th>\n",
       "      <th>is_first_post</th>\n",
       "      <th>post_depth</th>\n",
       "      <th>in_reply_to</th>\n",
       "      <th>sentiment.polarity</th>\n",
       "      <th>sentiment.subjectivity</th>\n",
       "    </tr>\n",
       "  </thead>\n",
       "  <tbody>\n",
       "    <tr>\n",
       "      <th>0</th>\n",
       "      <td>relationships</td>\n",
       "      <td>My Friend/Crush [22/F] acting weird after I [2...</td>\n",
       "      <td>t1_cy7f317</td>\n",
       "      <td>https://www.reddit.com/r/relationships/comment...</td>\n",
       "      <td>Melodrama_</td>\n",
       "      <td>It's a sad realization, isn't it?</td>\n",
       "      <td></td>\n",
       "      <td>False</td>\n",
       "      <td>2</td>\n",
       "      <td>t1_cy7erc5</td>\n",
       "      <td>negative</td>\n",
       "      <td>1.000000</td>\n",
       "    </tr>\n",
       "    <tr>\n",
       "      <th>1</th>\n",
       "      <td>relationships</td>\n",
       "      <td>My Friend/Crush [22/F] acting weird after I [2...</td>\n",
       "      <td>t1_cy7hlyf</td>\n",
       "      <td>https://www.reddit.com/r/relationships/comment...</td>\n",
       "      <td>Melodrama_</td>\n",
       "      <td>I told her a couple of minutes ago that I didn...</td>\n",
       "      <td>elaboration</td>\n",
       "      <td>False</td>\n",
       "      <td>2</td>\n",
       "      <td>t1_cy7erc5</td>\n",
       "      <td>neutral</td>\n",
       "      <td>0.483631</td>\n",
       "    </tr>\n",
       "    <tr>\n",
       "      <th>2</th>\n",
       "      <td>relationships</td>\n",
       "      <td>My Friend/Crush [22/F] acting weird after I [2...</td>\n",
       "      <td>t1_cy7etrr</td>\n",
       "      <td>https://www.reddit.com/r/relationships/comment...</td>\n",
       "      <td>TreatYoSelves</td>\n",
       "      <td>Leeches don't make good friends.</td>\n",
       "      <td>answer</td>\n",
       "      <td>False</td>\n",
       "      <td>1</td>\n",
       "      <td>t3_3xshx9</td>\n",
       "      <td>positive</td>\n",
       "      <td>0.600000</td>\n",
       "    </tr>\n",
       "    <tr>\n",
       "      <th>3</th>\n",
       "      <td>relationships</td>\n",
       "      <td>My Friend/Crush [22/F] acting weird after I [2...</td>\n",
       "      <td>t1_cy7hhpq</td>\n",
       "      <td>https://www.reddit.com/r/relationships/comment...</td>\n",
       "      <td>Melodrama_</td>\n",
       "      <td>I just ended it. Apparently she wasn't a good ...</td>\n",
       "      <td>elaboration</td>\n",
       "      <td>False</td>\n",
       "      <td>2</td>\n",
       "      <td>t1_cy7etrr</td>\n",
       "      <td>positive</td>\n",
       "      <td>0.475000</td>\n",
       "    </tr>\n",
       "    <tr>\n",
       "      <th>4</th>\n",
       "      <td>relationships</td>\n",
       "      <td>My Friend/Crush [22/F] acting weird after I [2...</td>\n",
       "      <td>t1_cy7q0qg</td>\n",
       "      <td>https://www.reddit.com/r/relationships/comment...</td>\n",
       "      <td>TreatYoSelves</td>\n",
       "      <td>Good for you!  Make sure you stick with it.</td>\n",
       "      <td>appreciation</td>\n",
       "      <td>False</td>\n",
       "      <td>3</td>\n",
       "      <td>t1_cy7hhpq</td>\n",
       "      <td>positive</td>\n",
       "      <td>0.744444</td>\n",
       "    </tr>\n",
       "  </tbody>\n",
       "</table>\n",
       "</div>"
      ],
      "text/plain": [
       "       subreddit  ... sentiment.subjectivity\n",
       "0  relationships  ...               1.000000\n",
       "1  relationships  ...               0.483631\n",
       "2  relationships  ...               0.600000\n",
       "3  relationships  ...               0.475000\n",
       "4  relationships  ...               0.744444\n",
       "\n",
       "[5 rows x 12 columns]"
      ]
     },
     "execution_count": 4,
     "metadata": {
      "tags": []
     },
     "output_type": "execute_result"
    }
   ],
   "source": [
    "# Your code here\n",
    "train_data.head(5)"
   ]
  },
  {
   "cell_type": "code",
   "execution_count": 5,
   "metadata": {
    "colab": {
     "base_uri": "https://localhost:8080/"
    },
    "id": "E1NzWo-Yr-5Q",
    "outputId": "f214996a-7159-4c5f-ee66-451ac413a974"
   },
   "outputs": [
    {
     "data": {
      "text/plain": [
       "('parser', <spacy.pipeline.pipes.DependencyParser at 0x7f0dbac94de0>)"
      ]
     },
     "execution_count": 5,
     "metadata": {
      "tags": []
     },
     "output_type": "execute_result"
    }
   ],
   "source": [
    "import spacy\n",
    "\n",
    "nlp = spacy.load('en_core_web_sm', disable=['ner'])\n",
    "nlp.remove_pipe('tagger')\n",
    "nlp.remove_pipe('parser')\n",
    "\n",
    "#all_stopwords = nlp.Defaults.stop_words"
   ]
  },
  {
   "cell_type": "code",
   "execution_count": 6,
   "metadata": {
    "id": "ZWLIr404vgcG"
   },
   "outputs": [],
   "source": [
    "#Tokenize\n",
    "def spacy_tokenize(string):\n",
    "  tokens = list()\n",
    "  doc = nlp(string)\n",
    "  for token in doc:\n",
    "    #if(not token.text in all_stopwords): # Remove stop words in token process\n",
    "    tokens.append(token)\n",
    "  return tokens\n",
    "\n",
    "#Normalize\n",
    "def normalize(tokens):\n",
    "  normalized_tokens = list()\n",
    "  for token in tokens:\n",
    "    normalized = token.text.lower().strip()\n",
    "    if ((token.is_alpha or token.is_digit)):\n",
    "      normalized_tokens.append(normalized)\n",
    "  return normalized_tokens\n",
    "\n",
    "#Tokenize and normalize\n",
    "def tokenize_normalize(string):\n",
    "  return normalize(spacy_tokenize(string))"
   ]
  },
  {
   "cell_type": "code",
   "execution_count": 7,
   "metadata": {
    "colab": {
     "base_uri": "https://localhost:8080/"
    },
    "id": "NL5_t42lv4rl",
    "outputId": "a2b9e642-e1ba-4c96-fff0-2def0b332575"
   },
   "outputs": [
    {
     "data": {
      "text/plain": [
       "['it', 'a', 'sad', 'realization', 'is', 'it']"
      ]
     },
     "execution_count": 7,
     "metadata": {
      "tags": []
     },
     "output_type": "execute_result"
    }
   ],
   "source": [
    "ex_sen = train_data['body'][0]\n",
    "tokenize_normalize(ex_sen)"
   ]
  },
  {
   "cell_type": "code",
   "execution_count": 8,
   "metadata": {
    "colab": {
     "base_uri": "https://localhost:8080/"
    },
    "id": "mn_1lx1SCUDG",
    "outputId": "f1a72440-7271-4bab-e5ab-1b515f3f167e"
   },
   "outputs": [
    {
     "name": "stdout",
     "output_type": "stream",
     "text": [
      "Training set with [very negative]: 0.8%\n",
      "Training set with [negative]: 7.2%\n",
      "Training set with [neutral]: 63.3%\n",
      "Training set with [positive]: 26.6%\n",
      "Training set with [very positive]: 2.1%\n",
      "Validation set with [very negative]: 0.5%\n",
      "Validation set with [negative]: 6.9%\n",
      "Validation set with [neutral]: 63.1%\n",
      "Validation set with [positive]: 27.2%\n",
      "Validation set with [very positive]: 2.3%\n",
      "Test set with [very negative]: 0.8%\n",
      "Test set with [negative]: 7.0%\n",
      "Test set with [neutral]: 62.6%\n",
      "Test set with [positive]: 27.4%\n",
      "Test set with [very positive]: 2.1%\n"
     ]
    }
   ],
   "source": [
    "label_val = ['very negative', 'negative', 'neutral', 'positive', 'very positive']\n",
    "for val in label_val:\n",
    "  print('Training set with ['+val+']: %.1f%%' % (100*sum(train_data['sentiment.polarity'] == val)/len(train_data)))\n",
    "\n",
    "for val in label_val: \n",
    "  print('Validation set with ['+val+']: %.1f%%' %  ((100*sum(validation_data['sentiment.polarity'] == val)/len(validation_data))))\n",
    "\n",
    "for val in label_val:  \n",
    "  print('Test set with ['+val+']: %.1f%%' % (100*sum(test_data['sentiment.polarity'] == val)/len(test_data)))"
   ]
  },
  {
   "cell_type": "code",
   "execution_count": 9,
   "metadata": {
    "colab": {
     "base_uri": "https://localhost:8080/"
    },
    "id": "NCtfbjpflOGa",
    "outputId": "46cded21-87e6-49f7-a0cf-0a2c562182e7"
   },
   "outputs": [
    {
     "name": "stdout",
     "output_type": "stream",
     "text": [
      "class: negative\n",
      "0.07233481627945296\n",
      "class: neutral\n",
      "0.6326412918108419\n",
      "class: positive\n",
      "0.2661888284725655\n",
      "class: very positive\n",
      "0.02084363157027517\n",
      "class: very negative\n",
      "0.007991431866864393\n"
     ]
    }
   ],
   "source": [
    "import collections\n",
    "\n",
    "label_counts = collections.Counter(train_data['sentiment.polarity'])\n",
    "\n",
    "for label in label_counts:\n",
    "  print(\"class: \" + str(label))\n",
    "  print(label_counts[label] / len(train_data))"
   ]
  },
  {
   "cell_type": "code",
   "execution_count": 10,
   "metadata": {
    "id": "QZ0bcsqJBo-8"
   },
   "outputs": [],
   "source": [
    "def create_label(x):\n",
    "  if x == \"very negative\":\n",
    "    return 0\n",
    "  elif x == \"negative\":\n",
    "    return 1\n",
    "  elif x == \"neutral\":\n",
    "    return 2\n",
    "  elif x == \"positive\":\n",
    "    return 3\n",
    "  elif x == \"very positive\":\n",
    "    return 4"
   ]
  },
  {
   "cell_type": "code",
   "execution_count": 11,
   "metadata": {
    "id": "WUjNcXfxB7KL"
   },
   "outputs": [],
   "source": [
    "train_data['Class'] = train_data['sentiment.polarity'].apply(create_label)\n",
    "validation_data['Class'] = validation_data['sentiment.polarity'].apply(create_label)\n",
    "test_data['Class'] = test_data['sentiment.polarity'].apply(create_label)"
   ]
  },
  {
   "cell_type": "code",
   "execution_count": 12,
   "metadata": {
    "id": "MUE-XPCD1Urh"
   },
   "outputs": [],
   "source": [
    "train_labels = train_data['Class']\n",
    "validation_labels = validation_data['Class']\n",
    "test_labels = test_data['Class']"
   ]
  },
  {
   "cell_type": "code",
   "execution_count": 13,
   "metadata": {
    "colab": {
     "base_uri": "https://localhost:8080/"
    },
    "id": "zCoAey-PFcfU",
    "outputId": "305663de-26bc-45b9-e901-afd3bb1a5520"
   },
   "outputs": [
    {
     "name": "stdout",
     "output_type": "stream",
     "text": [
      "class: 1\n",
      "0.07233481627945296\n",
      "class: 2\n",
      "0.6326412918108419\n",
      "class: 3\n",
      "0.2661888284725655\n",
      "class: 4\n",
      "0.02084363157027517\n",
      "class: 0\n",
      "0.007991431866864393\n"
     ]
    }
   ],
   "source": [
    "apply_label_counts = collections.Counter(train_data['Class'])\n",
    "\n",
    "for label in apply_label_counts:\n",
    "  print(\"class: \" + str(label))\n",
    "  print(apply_label_counts[label] / len(train_data))"
   ]
  },
  {
   "cell_type": "code",
   "execution_count": 11,
   "metadata": {
    "id": "3gzRmV6M1B0K"
   },
   "outputs": [],
   "source": [
    "from sklearn.feature_extraction.text import CountVectorizer\n",
    "\n",
    "one_hot_vectorizer = CountVectorizer(tokenizer=tokenize_normalize, binary=True)\n",
    "train_features = one_hot_vectorizer.fit_transform(train_data['body'])\n",
    "\n",
    "validation_features = one_hot_vectorizer.transform(validation_data['body'])\n",
    "test_features = one_hot_vectorizer.transform(test_data['body'])"
   ]
  },
  {
   "cell_type": "code",
   "execution_count": 14,
   "metadata": {
    "id": "XfeHLZD_HxSJ"
   },
   "outputs": [],
   "source": [
    "from sklearn.metrics import classification_report\n",
    "from sklearn.metrics import confusion_matrix\n",
    "from sklearn.metrics import precision_score\n",
    "from sklearn.metrics import recall_score\n",
    "from sklearn.metrics import accuracy_score\n",
    "from sklearn.metrics import fbeta_score\n",
    "\n",
    "def evaluation_summary_macro(description, predictions, true_labels):\n",
    "  print(\"Evaluation(macro) for: \" + description)\n",
    "  precision = precision_score(predictions, true_labels, average='macro')\n",
    "  recall = recall_score(predictions, true_labels, average='macro')\n",
    "  accuracy = accuracy_score(predictions, true_labels)\n",
    "  f1 = fbeta_score(predictions, true_labels, 1, average='macro') #1 means f_1 measure\n",
    "  print(\"Classifier '%s' has Acc=%0.3f P=%0.3f R=%0.3f F1=%0.3f\" % (description,accuracy,precision,recall,f1))\n",
    "  #print(classification_report(predictions, true_labels, digits=3, zero_division = 0))\n",
    "  return description,accuracy,precision,recall,f1\n",
    "\n",
    "def evaluation_summary_weighted(description, predictions, true_labels):\n",
    "  print(\"Evaluation(weighted) for: \" + description)\n",
    "  precision = precision_score(predictions, true_labels, average='weighted')\n",
    "  recall = recall_score(predictions, true_labels, average='weighted')\n",
    "  accuracy = accuracy_score(predictions, true_labels)\n",
    "  f1 = fbeta_score(predictions, true_labels, 1, average='weighted') #1 means f_1 measure\n",
    "  print(\"Classifier '%s' has Acc=%0.3f P=%0.3f R=%0.3f F1=%0.3f\" % (description,accuracy,precision,recall,f1))\n",
    "  print(classification_report(predictions, true_labels, digits=3, zero_division = 0))\n",
    "  return description,accuracy,precision,recall,f1"
   ]
  },
  {
   "cell_type": "markdown",
   "metadata": {
    "id": "Gi44CAW2b_54"
   },
   "source": [
    "# **Q1 Explor Classifier Models**"
   ]
  },
  {
   "cell_type": "code",
   "execution_count": 14,
   "metadata": {
    "colab": {
     "base_uri": "https://localhost:8080/"
    },
    "id": "VF02mY9fHszW",
    "outputId": "1b667a63-0c39-450e-9a3f-e798332c71c2"
   },
   "outputs": [
    {
     "name": "stdout",
     "output_type": "stream",
     "text": [
      "Evaluation(macro) for: Dummy Majority\n",
      "Classifier 'Dummy Majority' has Acc=0.626 P=0.200 R=0.125 F1=0.154\n",
      "Evaluation(weighted) for: Dummy Majority\n",
      "Classifier 'Dummy Majority' has Acc=0.626 P=1.000 R=0.626 F1=0.770\n",
      "              precision    recall  f1-score   support\n",
      "\n",
      "           0      0.000     0.000     0.000         0\n",
      "           1      0.000     0.000     0.000         0\n",
      "           2      1.000     0.626     0.770      4016\n",
      "           3      0.000     0.000     0.000         0\n",
      "           4      0.000     0.000     0.000         0\n",
      "\n",
      "    accuracy                          0.626      4016\n",
      "   macro avg      0.200     0.125     0.154      4016\n",
      "weighted avg      1.000     0.626     0.770      4016\n",
      "\n",
      "Evaluation(macro) for: Dummy Prior\n",
      "Classifier 'Dummy Prior' has Acc=0.467 P=0.195 R=0.195 F1=0.195\n",
      "Evaluation(weighted) for: Dummy Prior\n",
      "Classifier 'Dummy Prior' has Acc=0.466 P=0.460 R=0.466 F1=0.463\n",
      "              precision    recall  f1-score   support\n",
      "\n",
      "           0      0.000     0.000     0.000        30\n",
      "           1      0.085     0.075     0.080       319\n",
      "           2      0.610     0.624     0.617      2460\n",
      "           3      0.281     0.275     0.278      1128\n",
      "           4      0.047     0.051     0.048        79\n",
      "\n",
      "    accuracy                          0.466      4016\n",
      "   macro avg      0.205     0.205     0.205      4016\n",
      "weighted avg      0.460     0.466     0.463      4016\n",
      "\n"
     ]
    },
    {
     "name": "stderr",
     "output_type": "stream",
     "text": [
      "/usr/local/lib/python3.7/dist-packages/sklearn/metrics/_classification.py:1272: UndefinedMetricWarning: Recall is ill-defined and being set to 0.0 in labels with no true samples. Use `zero_division` parameter to control this behavior.\n",
      "  _warn_prf(average, modifier, msg_start, len(result))\n"
     ]
    }
   ],
   "source": [
    "# Dummy Classifier\n",
    "from sklearn.dummy import DummyClassifier\n",
    "\n",
    "overall_result_macro = list()\n",
    "overall_result_weighted = list()\n",
    "\n",
    "dummy_mf = DummyClassifier(strategy='most_frequent')\n",
    "dummy_mf.fit(train_features, train_labels)\n",
    "overall_result_macro.append(evaluation_summary_macro(\"Dummy Majority\", dummy_mf.predict(test_features), test_labels))\n",
    "overall_result_weighted.append(evaluation_summary_weighted(\"Dummy Majority\", dummy_mf.predict(test_features), test_labels))\n",
    "\n",
    "dummy_prior = DummyClassifier(strategy='stratified')\n",
    "dummy_prior.fit(train_features, train_labels)\n",
    "overall_result_macro.append(evaluation_summary_macro(\"Dummy Prior\", dummy_prior.predict(test_features), test_labels))\n",
    "overall_result_weighted.append(evaluation_summary_weighted(\"Dummy Prior\", dummy_prior.predict(test_features), test_labels))"
   ]
  },
  {
   "cell_type": "code",
   "execution_count": 15,
   "metadata": {
    "colab": {
     "base_uri": "https://localhost:8080/"
    },
    "id": "Pb8bUuhGYBlk",
    "outputId": "b41d40ee-1ebb-42c0-9638-8e7b9a901ba0"
   },
   "outputs": [
    {
     "name": "stdout",
     "output_type": "stream",
     "text": [
      "Evaluation(macro) for: LR onehot\n",
      "Classifier 'LR onehot' has Acc=0.748 P=0.439 R=0.633 F1=0.486\n",
      "Evaluation(weighted) for: LR onehot\n",
      "Classifier 'LR onehot' has Acc=0.748 P=0.786 R=0.748 F1=0.762\n",
      "              precision    recall  f1-score   support\n",
      "\n",
      "           0      0.156     0.714     0.256         7\n",
      "           1      0.248     0.483     0.328       145\n",
      "           2      0.877     0.778     0.825      2834\n",
      "           3      0.633     0.712     0.671       980\n",
      "           4      0.279     0.480     0.353        50\n",
      "\n",
      "    accuracy                          0.748      4016\n",
      "   macro avg      0.439     0.633     0.486      4016\n",
      "weighted avg      0.786     0.748     0.762      4016\n",
      "\n"
     ]
    }
   ],
   "source": [
    "# Logistic Regression one-hot\n",
    "from sklearn.linear_model import LogisticRegression\n",
    "\n",
    "lr = LogisticRegression(max_iter = 1000)\n",
    "lr_model = lr.fit(train_features, train_labels)\n",
    "overall_result_macro.append(evaluation_summary_macro(\"LR onehot\", lr_model.predict(test_features), test_labels))\n",
    "overall_result_weighted.append(evaluation_summary_weighted(\"LR onehot\", lr_model.predict(test_features), test_labels))"
   ]
  },
  {
   "cell_type": "code",
   "execution_count": 42,
   "metadata": {
    "id": "aKG12qOWmfk-"
   },
   "outputs": [],
   "source": [
    "from sklearn.base import BaseEstimator, TransformerMixin\n",
    "\n",
    "class ItemSelector(BaseEstimator, TransformerMixin):\n",
    "    \"\"\"For data grouped by feature, select subset of data at a provided key.    \"\"\"\n",
    "\n",
    "    def __init__(self, key):\n",
    "        self.key = key\n",
    "\n",
    "    def fit(self, x, y=None):\n",
    "        return self\n",
    "\n",
    "    def transform(self, data_dict):\n",
    "        return data_dict[self.key]"
   ]
  },
  {
   "cell_type": "code",
   "execution_count": 17,
   "metadata": {
    "colab": {
     "base_uri": "https://localhost:8080/"
    },
    "id": "2w1NbGBTxKu7",
    "outputId": "3cc540c6-ded6-442d-f1ac-0825c661dee3"
   },
   "outputs": [
    {
     "data": {
      "text/plain": [
       "Pipeline(memory=None,\n",
       "         steps=[('selector', ItemSelector(key='body')),\n",
       "                ('tf-idf',\n",
       "                 TfidfVectorizer(analyzer='word', binary=False,\n",
       "                                 decode_error='strict',\n",
       "                                 dtype=<class 'numpy.float64'>,\n",
       "                                 encoding='utf-8', input='content',\n",
       "                                 lowercase=True, max_df=1.0, max_features=None,\n",
       "                                 min_df=1, ngram_range=(1, 1), norm='l2',\n",
       "                                 preprocessor=None, smooth_idf=True,\n",
       "                                 stop_words=None, strip_accents=...\n",
       "                                 token_pattern='(?u)\\\\b\\\\w\\\\w+\\\\b',\n",
       "                                 tokenizer=<function tokenize_normalize at 0x7f93e715c0e0>,\n",
       "                                 use_idf=True, vocabulary=None)),\n",
       "                ('logreg',\n",
       "                 LogisticRegression(C=1.0, class_weight=None, dual=False,\n",
       "                                    fit_intercept=True, intercept_scaling=1,\n",
       "                                    l1_ratio=None, max_iter=1000,\n",
       "                                    multi_class='auto', n_jobs=None,\n",
       "                                    penalty='l2', random_state=None,\n",
       "                                    solver='lbfgs', tol=0.0001, verbose=0,\n",
       "                                    warm_start=False))],\n",
       "         verbose=False)"
      ]
     },
     "execution_count": 17,
     "metadata": {
      "tags": []
     },
     "output_type": "execute_result"
    }
   ],
   "source": [
    "from sklearn.pipeline import Pipeline\n",
    "from sklearn.feature_extraction.text import TfidfVectorizer\n",
    "\n",
    "# Logistic Regression tf-idf\n",
    "\n",
    "pred_pipeline = Pipeline([\n",
    "              ('selector', ItemSelector(key='body')),\n",
    "              ('tf-idf', TfidfVectorizer(tokenizer = tokenize_normalize)),\n",
    "              ('logreg', LogisticRegression(max_iter=1000))\n",
    "              ])\n",
    "\n",
    "pred_pipeline.fit(train_data, train_labels)"
   ]
  },
  {
   "cell_type": "code",
   "execution_count": 18,
   "metadata": {
    "colab": {
     "base_uri": "https://localhost:8080/"
    },
    "id": "DYirnERF0JhF",
    "outputId": "bb458571-8851-441d-8b58-fa60a082ec45"
   },
   "outputs": [
    {
     "name": "stdout",
     "output_type": "stream",
     "text": [
      "Evaluation(macro) for: LR TFIDF\n",
      "Classifier 'LR TFIDF' has Acc=0.741 P=0.331 R=0.588 F1=0.357\n"
     ]
    },
    {
     "name": "stderr",
     "output_type": "stream",
     "text": [
      "/usr/local/lib/python3.7/dist-packages/sklearn/metrics/_classification.py:1272: UndefinedMetricWarning: Recall is ill-defined and being set to 0.0 in labels with no true samples. Use `zero_division` parameter to control this behavior.\n",
      "  _warn_prf(average, modifier, msg_start, len(result))\n"
     ]
    },
    {
     "name": "stdout",
     "output_type": "stream",
     "text": [
      "Evaluation(weighted) for: LR TFIDF\n",
      "Classifier 'LR TFIDF' has Acc=0.741 P=0.853 R=0.741 F1=0.780\n",
      "              precision    recall  f1-score   support\n",
      "\n",
      "           0      0.000     0.000     0.000         0\n",
      "           1      0.089     0.625     0.155        40\n",
      "           2      0.944     0.738     0.829      3212\n",
      "           3      0.517     0.757     0.615       753\n",
      "           4      0.105     0.818     0.186        11\n",
      "\n",
      "    accuracy                          0.741      4016\n",
      "   macro avg      0.331     0.588     0.357      4016\n",
      "weighted avg      0.853     0.741     0.780      4016\n",
      "\n"
     ]
    },
    {
     "name": "stderr",
     "output_type": "stream",
     "text": [
      "/usr/local/lib/python3.7/dist-packages/sklearn/metrics/_classification.py:1272: UndefinedMetricWarning: Recall is ill-defined and being set to 0.0 in labels with no true samples. Use `zero_division` parameter to control this behavior.\n",
      "  _warn_prf(average, modifier, msg_start, len(result))\n"
     ]
    }
   ],
   "source": [
    "overall_result_macro.append(evaluation_summary_macro(\"LR TFIDF\", pred_pipeline.predict(test_data), test_labels))  \n",
    "overall_result_weighted.append(evaluation_summary_weighted(\"LR TFIDF\", pred_pipeline.predict(test_data), test_labels))  "
   ]
  },
  {
   "cell_type": "code",
   "execution_count": 19,
   "metadata": {
    "colab": {
     "base_uri": "https://localhost:8080/"
    },
    "id": "9-V-NOEvtAuj",
    "outputId": "bc73415e-dffa-4360-c27e-e7f23f9b9d57"
   },
   "outputs": [
    {
     "name": "stdout",
     "output_type": "stream",
     "text": [
      "Evaluation(macro) for: SVC\n",
      "Classifier 'SVC' has Acc=0.730 P=0.288 R=0.458 F1=0.287\n"
     ]
    },
    {
     "name": "stderr",
     "output_type": "stream",
     "text": [
      "/usr/local/lib/python3.7/dist-packages/sklearn/metrics/_classification.py:1272: UndefinedMetricWarning: Recall is ill-defined and being set to 0.0 in labels with no true samples. Use `zero_division` parameter to control this behavior.\n",
      "  _warn_prf(average, modifier, msg_start, len(result))\n"
     ]
    },
    {
     "name": "stdout",
     "output_type": "stream",
     "text": [
      "Evaluation(weighted) for: SVC\n",
      "Classifier 'SVC' has Acc=0.730 P=0.875 R=0.730 F1=0.782\n",
      "              precision    recall  f1-score   support\n",
      "\n",
      "           0      0.000     0.000     0.000         0\n",
      "           1      0.014     0.800     0.028         5\n",
      "           2      0.958     0.721     0.823      3339\n",
      "           3      0.470     0.771     0.584       672\n",
      "           4      0.000     0.000     0.000         0\n",
      "\n",
      "    accuracy                          0.730      4016\n",
      "   macro avg      0.288     0.458     0.287      4016\n",
      "weighted avg      0.875     0.730     0.782      4016\n",
      "\n"
     ]
    }
   ],
   "source": [
    "# SVC Classifier\n",
    "\n",
    "from sklearn.svm import SVC\n",
    "\n",
    "svm = SVC(kernel='rbf')\n",
    "svm.fit(train_features, train_labels)\n",
    "overall_result_macro.append(evaluation_summary_macro(\"SVC\", svm.predict(test_features), test_labels))\n",
    "overall_result_weighted.append(evaluation_summary_weighted(\"SVC\", svm.predict(test_features), test_labels))"
   ]
  },
  {
   "cell_type": "code",
   "execution_count": 20,
   "metadata": {
    "colab": {
     "base_uri": "https://localhost:8080/"
    },
    "id": "jM4YzQpc0be6",
    "outputId": "be72c11e-e0f4-4eb6-f032-867c56f31deb"
   },
   "outputs": [
    {
     "name": "stdout",
     "output_type": "stream",
     "text": [
      "Evaluation(macro) for: Random Forest\n",
      "Classifier 'Random Forest' has Acc=0.724 P=0.341 R=0.810 F1=0.385\n",
      "Evaluation(weighted) for: Random Forest\n",
      "Classifier 'Random Forest' has Acc=0.724 P=0.881 R=0.724 F1=0.774\n",
      "              precision    recall  f1-score   support\n",
      "\n",
      "           0      0.094     1.000     0.171         3\n",
      "           1      0.060     0.895     0.113        19\n",
      "           2      0.969     0.711     0.820      3424\n",
      "           3      0.397     0.802     0.531       545\n",
      "           4      0.186     0.640     0.288        25\n",
      "\n",
      "    accuracy                          0.724      4016\n",
      "   macro avg      0.341     0.810     0.385      4016\n",
      "weighted avg      0.881     0.724     0.774      4016\n",
      "\n"
     ]
    }
   ],
   "source": [
    "# Random Forest Classifier\n",
    "\n",
    "from sklearn.ensemble import RandomForestClassifier\n",
    "\n",
    "RF = RandomForestClassifier(n_estimators=1000, random_state=0)\n",
    "RF.fit(train_features, train_labels)\n",
    "overall_result_macro.append(evaluation_summary_macro(\"Random Forest\", RF.predict(test_features), test_labels))   \n",
    "overall_result_weighted.append(evaluation_summary_weighted(\"Random Forest\", RF.predict(test_features), test_labels))   "
   ]
  },
  {
   "cell_type": "code",
   "execution_count": 21,
   "metadata": {
    "colab": {
     "base_uri": "https://localhost:8080/",
     "height": 183
    },
    "id": "4L7BT_Jo8-t-",
    "outputId": "a911d4e1-defc-4b5f-fd4f-a2b9fb134972"
   },
   "outputs": [
    {
     "name": "stdout",
     "output_type": "stream",
     "text": [
      "Macro Score Table\n"
     ]
    },
    {
     "data": {
      "text/html": [
       "<style  type=\"text/css\" >\n",
       "#T_50322538_c397_11eb_aa8c_0242ac1c0002row0_col0,#T_50322538_c397_11eb_aa8c_0242ac1c0002row0_col1,#T_50322538_c397_11eb_aa8c_0242ac1c0002row0_col2,#T_50322538_c397_11eb_aa8c_0242ac1c0002row0_col3,#T_50322538_c397_11eb_aa8c_0242ac1c0002row0_col4,#T_50322538_c397_11eb_aa8c_0242ac1c0002row1_col0,#T_50322538_c397_11eb_aa8c_0242ac1c0002row1_col1,#T_50322538_c397_11eb_aa8c_0242ac1c0002row1_col2,#T_50322538_c397_11eb_aa8c_0242ac1c0002row1_col3,#T_50322538_c397_11eb_aa8c_0242ac1c0002row1_col4,#T_50322538_c397_11eb_aa8c_0242ac1c0002row3_col0,#T_50322538_c397_11eb_aa8c_0242ac1c0002row3_col1,#T_50322538_c397_11eb_aa8c_0242ac1c0002row3_col2,#T_50322538_c397_11eb_aa8c_0242ac1c0002row3_col3,#T_50322538_c397_11eb_aa8c_0242ac1c0002row3_col4,#T_50322538_c397_11eb_aa8c_0242ac1c0002row4_col0,#T_50322538_c397_11eb_aa8c_0242ac1c0002row4_col1,#T_50322538_c397_11eb_aa8c_0242ac1c0002row4_col2,#T_50322538_c397_11eb_aa8c_0242ac1c0002row4_col3,#T_50322538_c397_11eb_aa8c_0242ac1c0002row4_col4,#T_50322538_c397_11eb_aa8c_0242ac1c0002row5_col0,#T_50322538_c397_11eb_aa8c_0242ac1c0002row5_col1,#T_50322538_c397_11eb_aa8c_0242ac1c0002row5_col2,#T_50322538_c397_11eb_aa8c_0242ac1c0002row5_col3,#T_50322538_c397_11eb_aa8c_0242ac1c0002row5_col4{\n",
       "            background-color:  white;\n",
       "        }#T_50322538_c397_11eb_aa8c_0242ac1c0002row2_col0,#T_50322538_c397_11eb_aa8c_0242ac1c0002row2_col1,#T_50322538_c397_11eb_aa8c_0242ac1c0002row2_col2,#T_50322538_c397_11eb_aa8c_0242ac1c0002row2_col3,#T_50322538_c397_11eb_aa8c_0242ac1c0002row2_col4{\n",
       "            background-color:  yellow;\n",
       "        }</style><table id=\"T_50322538_c397_11eb_aa8c_0242ac1c0002\" ><thead>    <tr>        <th class=\"blank level0\" ></th>        <th class=\"col_heading level0 col0\" >Classifier</th>        <th class=\"col_heading level0 col1\" >Accuracy</th>        <th class=\"col_heading level0 col2\" >Precision</th>        <th class=\"col_heading level0 col3\" >Recall</th>        <th class=\"col_heading level0 col4\" >F1</th>    </tr></thead><tbody>\n",
       "                <tr>\n",
       "                        <th id=\"T_50322538_c397_11eb_aa8c_0242ac1c0002level0_row0\" class=\"row_heading level0 row0\" >0</th>\n",
       "                        <td id=\"T_50322538_c397_11eb_aa8c_0242ac1c0002row0_col0\" class=\"data row0 col0\" >Dummy Majority</td>\n",
       "                        <td id=\"T_50322538_c397_11eb_aa8c_0242ac1c0002row0_col1\" class=\"data row0 col1\" >0.626</td>\n",
       "                        <td id=\"T_50322538_c397_11eb_aa8c_0242ac1c0002row0_col2\" class=\"data row0 col2\" >0.200</td>\n",
       "                        <td id=\"T_50322538_c397_11eb_aa8c_0242ac1c0002row0_col3\" class=\"data row0 col3\" >0.125</td>\n",
       "                        <td id=\"T_50322538_c397_11eb_aa8c_0242ac1c0002row0_col4\" class=\"data row0 col4\" >0.154</td>\n",
       "            </tr>\n",
       "            <tr>\n",
       "                        <th id=\"T_50322538_c397_11eb_aa8c_0242ac1c0002level0_row1\" class=\"row_heading level0 row1\" >1</th>\n",
       "                        <td id=\"T_50322538_c397_11eb_aa8c_0242ac1c0002row1_col0\" class=\"data row1 col0\" >Dummy Prior</td>\n",
       "                        <td id=\"T_50322538_c397_11eb_aa8c_0242ac1c0002row1_col1\" class=\"data row1 col1\" >0.467</td>\n",
       "                        <td id=\"T_50322538_c397_11eb_aa8c_0242ac1c0002row1_col2\" class=\"data row1 col2\" >0.195</td>\n",
       "                        <td id=\"T_50322538_c397_11eb_aa8c_0242ac1c0002row1_col3\" class=\"data row1 col3\" >0.195</td>\n",
       "                        <td id=\"T_50322538_c397_11eb_aa8c_0242ac1c0002row1_col4\" class=\"data row1 col4\" >0.195</td>\n",
       "            </tr>\n",
       "            <tr>\n",
       "                        <th id=\"T_50322538_c397_11eb_aa8c_0242ac1c0002level0_row2\" class=\"row_heading level0 row2\" >2</th>\n",
       "                        <td id=\"T_50322538_c397_11eb_aa8c_0242ac1c0002row2_col0\" class=\"data row2 col0\" >LR onehot</td>\n",
       "                        <td id=\"T_50322538_c397_11eb_aa8c_0242ac1c0002row2_col1\" class=\"data row2 col1\" >0.748</td>\n",
       "                        <td id=\"T_50322538_c397_11eb_aa8c_0242ac1c0002row2_col2\" class=\"data row2 col2\" >0.439</td>\n",
       "                        <td id=\"T_50322538_c397_11eb_aa8c_0242ac1c0002row2_col3\" class=\"data row2 col3\" >0.633</td>\n",
       "                        <td id=\"T_50322538_c397_11eb_aa8c_0242ac1c0002row2_col4\" class=\"data row2 col4\" >0.486</td>\n",
       "            </tr>\n",
       "            <tr>\n",
       "                        <th id=\"T_50322538_c397_11eb_aa8c_0242ac1c0002level0_row3\" class=\"row_heading level0 row3\" >3</th>\n",
       "                        <td id=\"T_50322538_c397_11eb_aa8c_0242ac1c0002row3_col0\" class=\"data row3 col0\" >LR TFIDF</td>\n",
       "                        <td id=\"T_50322538_c397_11eb_aa8c_0242ac1c0002row3_col1\" class=\"data row3 col1\" >0.741</td>\n",
       "                        <td id=\"T_50322538_c397_11eb_aa8c_0242ac1c0002row3_col2\" class=\"data row3 col2\" >0.331</td>\n",
       "                        <td id=\"T_50322538_c397_11eb_aa8c_0242ac1c0002row3_col3\" class=\"data row3 col3\" >0.588</td>\n",
       "                        <td id=\"T_50322538_c397_11eb_aa8c_0242ac1c0002row3_col4\" class=\"data row3 col4\" >0.357</td>\n",
       "            </tr>\n",
       "            <tr>\n",
       "                        <th id=\"T_50322538_c397_11eb_aa8c_0242ac1c0002level0_row4\" class=\"row_heading level0 row4\" >4</th>\n",
       "                        <td id=\"T_50322538_c397_11eb_aa8c_0242ac1c0002row4_col0\" class=\"data row4 col0\" >SVC</td>\n",
       "                        <td id=\"T_50322538_c397_11eb_aa8c_0242ac1c0002row4_col1\" class=\"data row4 col1\" >0.730</td>\n",
       "                        <td id=\"T_50322538_c397_11eb_aa8c_0242ac1c0002row4_col2\" class=\"data row4 col2\" >0.288</td>\n",
       "                        <td id=\"T_50322538_c397_11eb_aa8c_0242ac1c0002row4_col3\" class=\"data row4 col3\" >0.458</td>\n",
       "                        <td id=\"T_50322538_c397_11eb_aa8c_0242ac1c0002row4_col4\" class=\"data row4 col4\" >0.287</td>\n",
       "            </tr>\n",
       "            <tr>\n",
       "                        <th id=\"T_50322538_c397_11eb_aa8c_0242ac1c0002level0_row5\" class=\"row_heading level0 row5\" >5</th>\n",
       "                        <td id=\"T_50322538_c397_11eb_aa8c_0242ac1c0002row5_col0\" class=\"data row5 col0\" >Random Forest</td>\n",
       "                        <td id=\"T_50322538_c397_11eb_aa8c_0242ac1c0002row5_col1\" class=\"data row5 col1\" >0.724</td>\n",
       "                        <td id=\"T_50322538_c397_11eb_aa8c_0242ac1c0002row5_col2\" class=\"data row5 col2\" >0.341</td>\n",
       "                        <td id=\"T_50322538_c397_11eb_aa8c_0242ac1c0002row5_col3\" class=\"data row5 col3\" >0.810</td>\n",
       "                        <td id=\"T_50322538_c397_11eb_aa8c_0242ac1c0002row5_col4\" class=\"data row5 col4\" >0.385</td>\n",
       "            </tr>\n",
       "    </tbody></table>"
      ],
      "text/plain": [
       "<pandas.io.formats.style.Styler at 0x7f93d42bd8d0>"
      ]
     },
     "execution_count": 21,
     "metadata": {
      "tags": []
     },
     "output_type": "execute_result"
    }
   ],
   "source": [
    "# Macro Score compare table\n",
    "\n",
    "column_result_name = ['Classifier', 'Accuracy', 'Precision', 'Recall', 'F1']\n",
    "df_result_macro = pd.DataFrame(overall_result_macro, columns=column_result_name)\n",
    "\n",
    "pd.set_option(\"display.precision\", 3)\n",
    "\n",
    "print(\"Macro Score Table\")\n",
    "\n",
    "def highlight_bestperformance(row):\n",
    "\n",
    "  if(row.F1 == df_result_macro['F1'].max()):\n",
    "    return ['background-color: yellow']*5\n",
    "  else:\n",
    "    return ['background-color: white']*5\n",
    "\n",
    "df_result_macro.style.apply(highlight_bestperformance, axis=1)"
   ]
  },
  {
   "cell_type": "code",
   "execution_count": 22,
   "metadata": {
    "colab": {
     "base_uri": "https://localhost:8080/",
     "height": 369
    },
    "id": "EMuylorq-pRb",
    "outputId": "f4f8f141-3ae4-42eb-aa5c-ac515141afdb"
   },
   "outputs": [
    {
     "name": "stdout",
     "output_type": "stream",
     "text": [
      "Macro Score Bar\n"
     ]
    },
    {
     "data": {
      "image/png": "[encoded data removed]",
      "text/plain": [
       "<Figure size 432x288 with 1 Axes>"
      ]
     },
     "metadata": {
      "needs_background": "light",
      "tags": []
     },
     "output_type": "display_data"
    }
   ],
   "source": [
    "print(\"Macro Score Bar\")\n",
    "ax = df_result_macro.plot.bar(x='Classifier', y='F1')"
   ]
  },
  {
   "cell_type": "code",
   "execution_count": 23,
   "metadata": {
    "colab": {
     "base_uri": "https://localhost:8080/",
     "height": 183
    },
    "id": "ZHXLbOBvQQvW",
    "outputId": "b4dc5e96-d838-47de-d3b7-2aedc6430dbd"
   },
   "outputs": [
    {
     "name": "stdout",
     "output_type": "stream",
     "text": [
      "Weighted Score Table\n"
     ]
    },
    {
     "data": {
      "text/html": [
       "<style  type=\"text/css\" >\n",
       "#T_506a9ee0_c397_11eb_aa8c_0242ac1c0002row0_col0,#T_506a9ee0_c397_11eb_aa8c_0242ac1c0002row0_col1,#T_506a9ee0_c397_11eb_aa8c_0242ac1c0002row0_col2,#T_506a9ee0_c397_11eb_aa8c_0242ac1c0002row0_col3,#T_506a9ee0_c397_11eb_aa8c_0242ac1c0002row0_col4,#T_506a9ee0_c397_11eb_aa8c_0242ac1c0002row1_col0,#T_506a9ee0_c397_11eb_aa8c_0242ac1c0002row1_col1,#T_506a9ee0_c397_11eb_aa8c_0242ac1c0002row1_col2,#T_506a9ee0_c397_11eb_aa8c_0242ac1c0002row1_col3,#T_506a9ee0_c397_11eb_aa8c_0242ac1c0002row1_col4,#T_506a9ee0_c397_11eb_aa8c_0242ac1c0002row2_col0,#T_506a9ee0_c397_11eb_aa8c_0242ac1c0002row2_col1,#T_506a9ee0_c397_11eb_aa8c_0242ac1c0002row2_col2,#T_506a9ee0_c397_11eb_aa8c_0242ac1c0002row2_col3,#T_506a9ee0_c397_11eb_aa8c_0242ac1c0002row2_col4,#T_506a9ee0_c397_11eb_aa8c_0242ac1c0002row3_col0,#T_506a9ee0_c397_11eb_aa8c_0242ac1c0002row3_col1,#T_506a9ee0_c397_11eb_aa8c_0242ac1c0002row3_col2,#T_506a9ee0_c397_11eb_aa8c_0242ac1c0002row3_col3,#T_506a9ee0_c397_11eb_aa8c_0242ac1c0002row3_col4,#T_506a9ee0_c397_11eb_aa8c_0242ac1c0002row5_col0,#T_506a9ee0_c397_11eb_aa8c_0242ac1c0002row5_col1,#T_506a9ee0_c397_11eb_aa8c_0242ac1c0002row5_col2,#T_506a9ee0_c397_11eb_aa8c_0242ac1c0002row5_col3,#T_506a9ee0_c397_11eb_aa8c_0242ac1c0002row5_col4{\n",
       "            background-color:  white;\n",
       "        }#T_506a9ee0_c397_11eb_aa8c_0242ac1c0002row4_col0,#T_506a9ee0_c397_11eb_aa8c_0242ac1c0002row4_col1,#T_506a9ee0_c397_11eb_aa8c_0242ac1c0002row4_col2,#T_506a9ee0_c397_11eb_aa8c_0242ac1c0002row4_col3,#T_506a9ee0_c397_11eb_aa8c_0242ac1c0002row4_col4{\n",
       "            background-color:  yellow;\n",
       "        }</style><table id=\"T_506a9ee0_c397_11eb_aa8c_0242ac1c0002\" ><thead>    <tr>        <th class=\"blank level0\" ></th>        <th class=\"col_heading level0 col0\" >Classifier</th>        <th class=\"col_heading level0 col1\" >Accuracy</th>        <th class=\"col_heading level0 col2\" >Precision</th>        <th class=\"col_heading level0 col3\" >Recall</th>        <th class=\"col_heading level0 col4\" >F1</th>    </tr></thead><tbody>\n",
       "                <tr>\n",
       "                        <th id=\"T_506a9ee0_c397_11eb_aa8c_0242ac1c0002level0_row0\" class=\"row_heading level0 row0\" >0</th>\n",
       "                        <td id=\"T_506a9ee0_c397_11eb_aa8c_0242ac1c0002row0_col0\" class=\"data row0 col0\" >Dummy Majority</td>\n",
       "                        <td id=\"T_506a9ee0_c397_11eb_aa8c_0242ac1c0002row0_col1\" class=\"data row0 col1\" >0.626</td>\n",
       "                        <td id=\"T_506a9ee0_c397_11eb_aa8c_0242ac1c0002row0_col2\" class=\"data row0 col2\" >1.000</td>\n",
       "                        <td id=\"T_506a9ee0_c397_11eb_aa8c_0242ac1c0002row0_col3\" class=\"data row0 col3\" >0.626</td>\n",
       "                        <td id=\"T_506a9ee0_c397_11eb_aa8c_0242ac1c0002row0_col4\" class=\"data row0 col4\" >0.770</td>\n",
       "            </tr>\n",
       "            <tr>\n",
       "                        <th id=\"T_506a9ee0_c397_11eb_aa8c_0242ac1c0002level0_row1\" class=\"row_heading level0 row1\" >1</th>\n",
       "                        <td id=\"T_506a9ee0_c397_11eb_aa8c_0242ac1c0002row1_col0\" class=\"data row1 col0\" >Dummy Prior</td>\n",
       "                        <td id=\"T_506a9ee0_c397_11eb_aa8c_0242ac1c0002row1_col1\" class=\"data row1 col1\" >0.466</td>\n",
       "                        <td id=\"T_506a9ee0_c397_11eb_aa8c_0242ac1c0002row1_col2\" class=\"data row1 col2\" >0.460</td>\n",
       "                        <td id=\"T_506a9ee0_c397_11eb_aa8c_0242ac1c0002row1_col3\" class=\"data row1 col3\" >0.466</td>\n",
       "                        <td id=\"T_506a9ee0_c397_11eb_aa8c_0242ac1c0002row1_col4\" class=\"data row1 col4\" >0.463</td>\n",
       "            </tr>\n",
       "            <tr>\n",
       "                        <th id=\"T_506a9ee0_c397_11eb_aa8c_0242ac1c0002level0_row2\" class=\"row_heading level0 row2\" >2</th>\n",
       "                        <td id=\"T_506a9ee0_c397_11eb_aa8c_0242ac1c0002row2_col0\" class=\"data row2 col0\" >LR onehot</td>\n",
       "                        <td id=\"T_506a9ee0_c397_11eb_aa8c_0242ac1c0002row2_col1\" class=\"data row2 col1\" >0.748</td>\n",
       "                        <td id=\"T_506a9ee0_c397_11eb_aa8c_0242ac1c0002row2_col2\" class=\"data row2 col2\" >0.786</td>\n",
       "                        <td id=\"T_506a9ee0_c397_11eb_aa8c_0242ac1c0002row2_col3\" class=\"data row2 col3\" >0.748</td>\n",
       "                        <td id=\"T_506a9ee0_c397_11eb_aa8c_0242ac1c0002row2_col4\" class=\"data row2 col4\" >0.762</td>\n",
       "            </tr>\n",
       "            <tr>\n",
       "                        <th id=\"T_506a9ee0_c397_11eb_aa8c_0242ac1c0002level0_row3\" class=\"row_heading level0 row3\" >3</th>\n",
       "                        <td id=\"T_506a9ee0_c397_11eb_aa8c_0242ac1c0002row3_col0\" class=\"data row3 col0\" >LR TFIDF</td>\n",
       "                        <td id=\"T_506a9ee0_c397_11eb_aa8c_0242ac1c0002row3_col1\" class=\"data row3 col1\" >0.741</td>\n",
       "                        <td id=\"T_506a9ee0_c397_11eb_aa8c_0242ac1c0002row3_col2\" class=\"data row3 col2\" >0.853</td>\n",
       "                        <td id=\"T_506a9ee0_c397_11eb_aa8c_0242ac1c0002row3_col3\" class=\"data row3 col3\" >0.741</td>\n",
       "                        <td id=\"T_506a9ee0_c397_11eb_aa8c_0242ac1c0002row3_col4\" class=\"data row3 col4\" >0.780</td>\n",
       "            </tr>\n",
       "            <tr>\n",
       "                        <th id=\"T_506a9ee0_c397_11eb_aa8c_0242ac1c0002level0_row4\" class=\"row_heading level0 row4\" >4</th>\n",
       "                        <td id=\"T_506a9ee0_c397_11eb_aa8c_0242ac1c0002row4_col0\" class=\"data row4 col0\" >SVC</td>\n",
       "                        <td id=\"T_506a9ee0_c397_11eb_aa8c_0242ac1c0002row4_col1\" class=\"data row4 col1\" >0.730</td>\n",
       "                        <td id=\"T_506a9ee0_c397_11eb_aa8c_0242ac1c0002row4_col2\" class=\"data row4 col2\" >0.875</td>\n",
       "                        <td id=\"T_506a9ee0_c397_11eb_aa8c_0242ac1c0002row4_col3\" class=\"data row4 col3\" >0.730</td>\n",
       "                        <td id=\"T_506a9ee0_c397_11eb_aa8c_0242ac1c0002row4_col4\" class=\"data row4 col4\" >0.782</td>\n",
       "            </tr>\n",
       "            <tr>\n",
       "                        <th id=\"T_506a9ee0_c397_11eb_aa8c_0242ac1c0002level0_row5\" class=\"row_heading level0 row5\" >5</th>\n",
       "                        <td id=\"T_506a9ee0_c397_11eb_aa8c_0242ac1c0002row5_col0\" class=\"data row5 col0\" >Random Forest</td>\n",
       "                        <td id=\"T_506a9ee0_c397_11eb_aa8c_0242ac1c0002row5_col1\" class=\"data row5 col1\" >0.724</td>\n",
       "                        <td id=\"T_506a9ee0_c397_11eb_aa8c_0242ac1c0002row5_col2\" class=\"data row5 col2\" >0.881</td>\n",
       "                        <td id=\"T_506a9ee0_c397_11eb_aa8c_0242ac1c0002row5_col3\" class=\"data row5 col3\" >0.724</td>\n",
       "                        <td id=\"T_506a9ee0_c397_11eb_aa8c_0242ac1c0002row5_col4\" class=\"data row5 col4\" >0.774</td>\n",
       "            </tr>\n",
       "    </tbody></table>"
      ],
      "text/plain": [
       "<pandas.io.formats.style.Styler at 0x7f93d3e35950>"
      ]
     },
     "execution_count": 23,
     "metadata": {
      "tags": []
     },
     "output_type": "execute_result"
    }
   ],
   "source": [
    "# Weighted Score compare table\n",
    "\n",
    "df_result_weighted = pd.DataFrame(overall_result_weighted, columns=column_result_name)\n",
    "\n",
    "print(\"Weighted Score Table\")\n",
    "\n",
    "def highlight_bestperformance(row):\n",
    "\n",
    "  if(row.F1 == df_result_weighted['F1'].max()):\n",
    "    return ['background-color: yellow']*5\n",
    "  else:\n",
    "    return ['background-color: white']*5\n",
    "\n",
    "df_result_weighted.style.apply(highlight_bestperformance, axis=1)"
   ]
  },
  {
   "cell_type": "code",
   "execution_count": 24,
   "metadata": {
    "colab": {
     "base_uri": "https://localhost:8080/",
     "height": 369
    },
    "id": "15jGOlB5Qpq_",
    "outputId": "6e015b0c-52c5-4163-a0d4-43cc59864966"
   },
   "outputs": [
    {
     "name": "stdout",
     "output_type": "stream",
     "text": [
      "Weighted Score Bar\n"
     ]
    },
    {
     "data": {
      "image/png": "[encoded data removed]",
      "text/plain": [
       "<Figure size 432x288 with 1 Axes>"
      ]
     },
     "metadata": {
      "needs_background": "light",
      "tags": []
     },
     "output_type": "display_data"
    }
   ],
   "source": [
    "print(\"Weighted Score Bar\")\n",
    "ax = df_result_weighted.plot.bar(x='Classifier', y='F1')"
   ]
  },
  {
   "cell_type": "markdown",
   "metadata": {
    "id": "QBI_Dgu-OOS9"
   },
   "source": []
  },
  {
   "cell_type": "markdown",
   "metadata": {
    "id": "n78Apjh6Phgq"
   },
   "source": [
    "**ANS**\n",
    "From the score table of all classifier that use training and test dataset, the macro score is being select for consideration than weighted as imbalance datase. Therefore, the Logistice Regression with one-hot encoding has the highest F1 score along with accuracy and precision score.\n",
    "\n",
    "For all dataset including training, validation, and test sets, neutral class is a majority with 63 percentage while very negative and very positive class are minority with 1 and 2 percentage respectively. The positive class is 27 percentage and negative class is 7 percentage.\n",
    "\n",
    "The tokenization and normalisations are same as previous classifier. I choose random forest classifer as it base on decision tree process selecting random sample dataset, while it perform vote for each predicted result from decision tree to find most vote as the final prediction. For vectorization form, I choose one-hot encoding(Bag of Words) as it count frequncies of term in body text that may have relation to sentiment polarity. \n",
    "\n",
    "While F1 performance of random forest classifier is not higher than Logistic Regression with one-hot encoding, but suprisingly macro Recall score of random forest is the highest which mean it has high rate of correct relevant result while in Precision score area is lower which decrease F1 score. Overall, random forest classifier achieve good performance higher than the baselines compare to other classifiers."
   ]
  },
  {
   "cell_type": "markdown",
   "metadata": {
    "id": "0AsHidjjUajG"
   },
   "source": [
    "# **Q2 Parameter tunning LogisticRegression with TF-IDF vectorization**"
   ]
  },
  {
   "cell_type": "markdown",
   "metadata": {
    "id": "qQmLLMLnTNpP"
   },
   "source": [
    "## List of TF-IDF vectorization models with different parameters for measure logistic regression macro average score."
   ]
  },
  {
   "cell_type": "code",
   "execution_count": 15,
   "metadata": {
    "id": "Z_JiXU0Zpa77"
   },
   "outputs": [],
   "source": [
    "tfidf_vectorizer_1 = TfidfVectorizer(tokenizer=tokenize_normalize, sublinear_tf=True, max_features=10000, norm='l2')\n",
    "tfidf_1_train_features = tfidf_vectorizer_1.fit_transform(train_data['body'])\n",
    "tfidf_1_validation_features = tfidf_vectorizer_1.transform(validation_data['body'])\n",
    "tfidf_1_test_features = tfidf_vectorizer_1.transform(test_data['body'])"
   ]
  },
  {
   "cell_type": "code",
   "execution_count": 28,
   "metadata": {
    "id": "U_vm3p8YphwD"
   },
   "outputs": [],
   "source": [
    "tfidf_vectorizer_2 = TfidfVectorizer(tokenizer=tokenize_normalize, sublinear_tf=False, max_features=10000, norm='l2')\n",
    "tfidf_2_train_features = tfidf_vectorizer_2.fit_transform(train_data['body'])\n",
    "tfidf_2_validation_features = tfidf_vectorizer_2.transform(validation_data['body'])\n",
    "tfidf_2_test_features = tfidf_vectorizer_2.transform(test_data['body'])"
   ]
  },
  {
   "cell_type": "code",
   "execution_count": 32,
   "metadata": {
    "id": "oFLmeo84pql5"
   },
   "outputs": [],
   "source": [
    "tfidf_vectorizer_3 = TfidfVectorizer(tokenizer=tokenize_normalize, sublinear_tf=True, max_features=25000, norm='l2')\n",
    "tfidf_3_train_features = tfidf_vectorizer_3.fit_transform(train_data['body'])\n",
    "tfidf_3_validation_features = tfidf_vectorizer_3.transform(validation_data['body'])\n",
    "tfidf_3_test_features = tfidf_vectorizer_3.transform(test_data['body'])"
   ]
  },
  {
   "cell_type": "code",
   "execution_count": 33,
   "metadata": {
    "id": "ARS6B4Espu5I"
   },
   "outputs": [],
   "source": [
    "tfidf_vectorizer_4 = TfidfVectorizer(tokenizer=tokenize_normalize, sublinear_tf=False, max_features=25000, norm='l2')\n",
    "tfidf_4_train_features = tfidf_vectorizer_4.fit_transform(train_data['body'])\n",
    "tfidf_4_validation_features = tfidf_vectorizer_4.transform(validation_data['body'])\n",
    "tfidf_4_test_features = tfidf_vectorizer_4.transform(test_data['body'])"
   ]
  },
  {
   "cell_type": "code",
   "execution_count": 153,
   "metadata": {
    "id": "IAyXIG-l53Zp"
   },
   "outputs": [],
   "source": [
    "tfidf_vectorizer_5 = TfidfVectorizer(tokenizer=tokenize_normalize, sublinear_tf=True, max_features=50000, norm='l2')\n",
    "tfidf_5_train_features = tfidf_vectorizer_5.fit_transform(train_data['body'])\n",
    "tfidf_5_validation_features = tfidf_vectorizer_5.transform(validation_data['body'])\n",
    "tfidf_5_test_features = tfidf_vectorizer_5.transform(test_data['body'])"
   ]
  },
  {
   "cell_type": "code",
   "execution_count": 175,
   "metadata": {
    "id": "8cTnG6HH57WN"
   },
   "outputs": [],
   "source": [
    "tfidf_vectorizer_6 = TfidfVectorizer(tokenizer=tokenize_normalize, sublinear_tf=True, ngram_range=(1,2), max_features=50000, norm='l2')\n",
    "tfidf_6_train_features = tfidf_vectorizer_6.fit_transform(train_data['body'])\n",
    "tfidf_6_validation_features = tfidf_vectorizer_6.transform(validation_data['body'])\n",
    "tfidf_6_test_features = tfidf_vectorizer_6.transform(test_data['body'])"
   ]
  },
  {
   "cell_type": "markdown",
   "metadata": {
    "id": "ZJIYjJkL0Bzr"
   },
   "source": [
    "## TFIDF Vectorize parameters comparison using identical parameters as baseline for logistic regression."
   ]
  },
  {
   "cell_type": "code",
   "execution_count": 146,
   "metadata": {
    "colab": {
     "base_uri": "https://localhost:8080/"
    },
    "id": "OIVPb5Th5-ti",
    "outputId": "8b91a8e2-c961-447a-c919-e4e636c57671"
   },
   "outputs": [
    {
     "name": "stdout",
     "output_type": "stream",
     "text": [
      "Evaluation(macro) for: LR TFIDF\n",
      "Classifier 'LR TFIDF' has Acc=0.408 P=0.570 R=0.320 F1=0.310\n"
     ]
    }
   ],
   "source": [
    "# TfidfVectorizer Model No.[1] with sublinear_tf=True, max_features=10000, norm='l2'\n",
    "lr = LogisticRegression(solver='saga', C=0.0001, max_iter=1000, class_weight='balanced', tol=0.00001, random_state=0)\n",
    "combined_model = lr.fit(tfidf_1_train_features,train_labels)\n",
    "baseline_1 = evaluation_summary_macro(\"LR TFIDF\", lr.predict(tfidf_1_validation_features), validation_labels)     "
   ]
  },
  {
   "cell_type": "code",
   "execution_count": 148,
   "metadata": {
    "colab": {
     "base_uri": "https://localhost:8080/"
    },
    "id": "jv0bIKkWq5I5",
    "outputId": "fc7c87fc-7e5b-43f8-a1e7-d0d85e42fd46"
   },
   "outputs": [
    {
     "name": "stdout",
     "output_type": "stream",
     "text": [
      "Evaluation(macro) for: LR TFIDF\n",
      "Classifier 'LR TFIDF' has Acc=0.386 P=0.553 R=0.319 F1=0.298\n"
     ]
    }
   ],
   "source": [
    "# TfidfVectorizer Model No.[2] with sublinear_tf=False, max_features=10000, norm='l2'\n",
    "lr = LogisticRegression(solver='saga', C=0.0001, max_iter=1000, class_weight='balanced', tol=0.00001, random_state=0)\n",
    "combined_model = lr.fit(tfidf_2_train_features,train_labels)\n",
    "baseline_2 = evaluation_summary_macro(\"LR TFIDF\", lr.predict(tfidf_2_validation_features), validation_labels)     "
   ]
  },
  {
   "cell_type": "code",
   "execution_count": 149,
   "metadata": {
    "colab": {
     "base_uri": "https://localhost:8080/"
    },
    "id": "8HrUObsbw3d6",
    "outputId": "f890c388-64ef-4d97-b1eb-0530ee6ae719"
   },
   "outputs": [
    {
     "name": "stdout",
     "output_type": "stream",
     "text": [
      "Evaluation(macro) for: LR TFIDF\n",
      "Classifier 'LR TFIDF' has Acc=0.400 P=0.557 R=0.316 F1=0.305\n"
     ]
    }
   ],
   "source": [
    "# TfidfVectorizer Model No.[3] with sublinear_tf=True, max_features=25000, norm='l2'\n",
    "lr = LogisticRegression(solver='saga', C=0.0001, max_iter=1000, class_weight='balanced', tol=0.00001, random_state=0)\n",
    "combined_model = lr.fit(tfidf_3_train_features,train_labels)\n",
    "baseline_3 = evaluation_summary_macro(\"LR TFIDF\", lr.predict(tfidf_3_validation_features), validation_labels)   "
   ]
  },
  {
   "cell_type": "code",
   "execution_count": 150,
   "metadata": {
    "colab": {
     "base_uri": "https://localhost:8080/"
    },
    "id": "CVqoE4Z9uM-x",
    "outputId": "6dcb5a2a-a850-4329-8ec3-69300ac2ba76"
   },
   "outputs": [
    {
     "name": "stdout",
     "output_type": "stream",
     "text": [
      "Evaluation(macro) for: LR TFIDF\n",
      "Classifier 'LR TFIDF' has Acc=0.377 P=0.539 R=0.315 F1=0.292\n"
     ]
    }
   ],
   "source": [
    "# TfidfVectorizer Model No.[4] with sublinear_tf=False, max_features=25000, norm='l2'\n",
    "lr = LogisticRegression(solver='saga', C=0.0001, max_iter=1000, class_weight='balanced', tol=0.00001, random_state=0)\n",
    "combined_model = lr.fit(tfidf_4_train_features,train_labels)\n",
    "baseline_4 = evaluation_summary_macro(\"LR TFIDF\", lr.predict(tfidf_4_validation_features), validation_labels)     "
   ]
  },
  {
   "cell_type": "markdown",
   "metadata": {
    "id": "iajCQx9z07Xo"
   },
   "source": [
    "From the result, TfidfVectorizer models with 10000 and 25000 max_features that setting sulinear_tf parameter as True, both have slighty higher F1 score to their counterpart which set sulinear_tf parameter as False."
   ]
  },
  {
   "cell_type": "code",
   "execution_count": 174,
   "metadata": {
    "colab": {
     "base_uri": "https://localhost:8080/"
    },
    "id": "wGpfYN0qBFdW",
    "outputId": "49980f91-8852-48fe-89d8-5a5bd565ab8c"
   },
   "outputs": [
    {
     "name": "stdout",
     "output_type": "stream",
     "text": [
      "Evaluation(macro) for: LR TFIDF\n",
      "Classifier 'LR TFIDF' has Acc=0.400 P=0.557 R=0.316 F1=0.305\n"
     ]
    }
   ],
   "source": [
    "# TfidfVectorizer Model No.[5] with sublinear_tf=True, max_features=50000, norm='l2'\n",
    "lr = LogisticRegression(solver='saga', C=0.0001, max_iter=1000, class_weight='balanced', tol=0.00001, random_state=0)\n",
    "combined_model = lr.fit(tfidf_5_train_features,train_labels)\n",
    "baseline_5 = evaluation_summary_macro(\"LR TFIDF\", lr.predict(tfidf_5_validation_features), validation_labels)     "
   ]
  },
  {
   "cell_type": "markdown",
   "metadata": {
    "id": "x9rz97BxVPnI"
   },
   "source": [
    "From the result compare to model no.3, increase in max_features doesn't affect in overall score."
   ]
  },
  {
   "cell_type": "code",
   "execution_count": 199,
   "metadata": {
    "colab": {
     "base_uri": "https://localhost:8080/"
    },
    "id": "fhPPmHkVjMSN",
    "outputId": "815c9977-ff3d-4d12-c5b9-2d7f3af69a32"
   },
   "outputs": [
    {
     "name": "stdout",
     "output_type": "stream",
     "text": [
      "Evaluation(macro) for: LR TFIDF\n",
      "Classifier 'LR TFIDF' has Acc=0.453 P=0.569 R=0.333 F1=0.338\n"
     ]
    }
   ],
   "source": [
    "# TfidfVectorizer Model No.[6] with sublinear_tf=True, max_features=50000, norm='l2', ngram_range=(1,2)\n",
    "lr = LogisticRegression(solver='saga', C=0.0001, max_iter=1000, class_weight='balanced', tol=0.00001, random_state=0)\n",
    "combined_model = lr.fit(tfidf_6_train_features,train_labels)\n",
    "baseline_6 = evaluation_summary_macro(\"LR TFIDF\", lr.predict(tfidf_6_validation_features), validation_labels)     "
   ]
  },
  {
   "cell_type": "markdown",
   "metadata": {
    "id": "X_XmXtzlVHDh"
   },
   "source": [
    "From the result, add ngram_range(1,2) increase overall macro average score."
   ]
  },
  {
   "cell_type": "markdown",
   "metadata": {
    "id": "Cc5Z_oAo6lJx"
   },
   "source": [
    "## Using hyperopt in tunning parameters of Logistic Regression"
   ]
  },
  {
   "cell_type": "code",
   "execution_count": 16,
   "metadata": {
    "id": "jILsNHrNKENA"
   },
   "outputs": [],
   "source": [
    "from hyperopt import tpe\n",
    "from hyperopt import STATUS_OK\n",
    "from hyperopt import Trials\n",
    "from hyperopt import hp\n",
    "from hyperopt import fmin\n",
    "from sklearn.model_selection import cross_val_score\n",
    "from sklearn.feature_extraction.text import TfidfVectorizer\n",
    "from sklearn.linear_model import LogisticRegression\n",
    "N_FOLDS = 10\n",
    "MAX_EVALS = 100\n",
    "def objective(params, n_folds = N_FOLDS):\n",
    "    \"\"\"Objective function for Logistic Regression Hyperparameter Tuning\"\"\"\n",
    "    # Perform n_fold cross validation with hyperparameters\n",
    "    # Use early stopping and evaluate based on ROC AUC\n",
    "    clf = LogisticRegression(**params, random_state=0, verbose=0)\n",
    "    scores = cross_val_score(clf, obj_features, obj_labels, cv=5, scoring='f1_macro')\n",
    "    # Extract the best score\n",
    "    best_score = max(scores)\n",
    "    # Loss must be minimized\n",
    "    loss = 1 - best_score\n",
    "    # Dictionary with information for evaluation\n",
    "    return {'loss': loss, 'params': params, 'status': STATUS_OK}"
   ]
  },
  {
   "cell_type": "code",
   "execution_count": 17,
   "metadata": {
    "id": "HYHMDXoRKQJu"
   },
   "outputs": [],
   "source": [
    "param = {\n",
    "    'class_weight': hp.choice('class_weight', [None, 'balanced']),\n",
    "    'tol' : hp.uniform('tol', 0.00001, 0.0001),\n",
    "    'C' : hp.uniform('C', 0.00001, 0.001),\n",
    "    'solver' : hp.choice('solver', ['lbfgs', 'liblinear', 'saga']),\n",
    "    'max_iter' : hp.choice('max_iter', range(1000,5000))\n",
    "}"
   ]
  },
  {
   "cell_type": "code",
   "execution_count": 178,
   "metadata": {
    "colab": {
     "base_uri": "https://localhost:8080/"
    },
    "id": "CjvctkO8Khwk",
    "outputId": "49286006-7e8b-4e89-cef9-883b1e6872b4"
   },
   "outputs": [
    {
     "name": "stdout",
     "output_type": "stream",
     "text": [
      "100%|██████████| 100/100 [09:55<00:00,  5.95s/it, best loss: 0.6592240484315345]\n"
     ]
    }
   ],
   "source": [
    "# Algorithm\n",
    "tpe_algorithm = tpe.suggest\n",
    "\n",
    "# Trials object to track progress\n",
    "bayes_trials = Trials()\n",
    "obj_features = tfidf_1_train_features\n",
    "obj_labels = train_labels\n",
    "\n",
    "# Optimize\n",
    "best = fmin(fn = objective, space = param, algo = tpe.suggest, max_evals = MAX_EVALS, trials = bayes_trials)\n",
    "\n",
    "# Sort the trials with lowest loss\n",
    "bayes_trials_results_1 = sorted(bayes_trials.results, key = lambda x: x['loss'])"
   ]
  },
  {
   "cell_type": "code",
   "execution_count": 215,
   "metadata": {
    "colab": {
     "base_uri": "https://localhost:8080/"
    },
    "id": "78u6vyp_2oWo",
    "outputId": "61171d62-d479-41b0-dbfe-8f0cd79bdbc3"
   },
   "outputs": [
    {
     "data": {
      "text/plain": [
       "[{'loss': 0.6592240484315345,\n",
       "  'params': {'C': 0.0004376682362359418,\n",
       "   'class_weight': 'balanced',\n",
       "   'max_iter': 4850,\n",
       "   'solver': 'saga',\n",
       "   'tol': 6.909011482955788e-05},\n",
       "  'status': 'ok'},\n",
       " {'loss': 0.6592240484315345,\n",
       "  'params': {'C': 0.0004344333704947679,\n",
       "   'class_weight': 'balanced',\n",
       "   'max_iter': 4538,\n",
       "   'solver': 'saga',\n",
       "   'tol': 8.515421805350227e-05},\n",
       "  'status': 'ok'}]"
      ]
     },
     "execution_count": 215,
     "metadata": {
      "tags": []
     },
     "output_type": "execute_result"
    }
   ],
   "source": [
    "# copy best param\n",
    "c = bayes_trials_results_1[0]['params']['C']\n",
    "class_weight = bayes_trials_results_1[0]['params']['class_weight']\n",
    "max_iter = bayes_trials_results_1[0]['params']['max_iter']\n",
    "solver = bayes_trials_results_1[0]['params']['solver']\n",
    "tol = bayes_trials_results_1[0]['params']['tol']\n",
    "\n",
    "bayes_trials_results_1[:2]"
   ]
  },
  {
   "cell_type": "code",
   "execution_count": 180,
   "metadata": {
    "colab": {
     "base_uri": "https://localhost:8080/"
    },
    "id": "gpe4i15Rnjw7",
    "outputId": "eb11ad44-6e3d-49b4-f92d-a2dd707ad912"
   },
   "outputs": [
    {
     "name": "stdout",
     "output_type": "stream",
     "text": [
      "Evaluation(macro) for: LR TFIDF\n",
      "Classifier 'LR TFIDF' has Acc=0.439 P=0.581 R=0.341 F1=0.337\n",
      "Evaluation(weighted) for: LR TFIDF\n",
      "Classifier 'LR TFIDF' has Acc=0.439 P=0.579 R=0.439 F1=0.421\n",
      "              precision    recall  f1-score   support\n",
      "\n",
      "           0      0.600     0.043     0.080       210\n",
      "           1      0.507     0.322     0.394       339\n",
      "           2      0.314     0.775     0.447       795\n",
      "           3      0.678     0.425     0.523      1348\n",
      "           4      0.808     0.141     0.241       417\n",
      "\n",
      "    accuracy                          0.439      3109\n",
      "   macro avg      0.581     0.341     0.337      3109\n",
      "weighted avg      0.579     0.439     0.421      3109\n",
      "\n"
     ]
    },
    {
     "data": {
      "text/plain": [
       "('LR TFIDF',\n",
       " 0.43936957220971373,\n",
       " 0.578549314002435,\n",
       " 0.43936957220971373,\n",
       " 0.42149531941033697)"
      ]
     },
     "execution_count": 180,
     "metadata": {
      "tags": []
     },
     "output_type": "execute_result"
    }
   ],
   "source": [
    "# Using hyperopt for finding best parameters with validation set\n",
    "lr = LogisticRegression(solver=solver, C=c, max_iter=max_iter, class_weight=class_weight, tol=tol)\n",
    "combined_model = lr.fit(tfidf_1_train_features,train_labels)\n",
    "opt_1 = evaluation_summary_macro(\"LR TFIDF\", lr.predict(tfidf_1_validation_features), validation_labels)      \n",
    "evaluation_summary_weighted(\"LR TFIDF\", lr.predict(tfidf_1_validation_features), validation_labels) "
   ]
  },
  {
   "cell_type": "code",
   "execution_count": 181,
   "metadata": {
    "colab": {
     "base_uri": "https://localhost:8080/"
    },
    "id": "pVbUTLyL7kJB",
    "outputId": "4babd08f-2485-4113-9866-3bcc587d0a19"
   },
   "outputs": [
    {
     "name": "stdout",
     "output_type": "stream",
     "text": [
      "Evaluation(macro) for: LR TFIDF\n",
      "Classifier 'LR TFIDF' has Acc=0.631 P=0.200 R=0.126 F1=0.155\n",
      "Evaluation(weighted) for: LR TFIDF\n",
      "Classifier 'LR TFIDF' has Acc=0.631 P=1.000 R=0.631 F1=0.774\n",
      "              precision    recall  f1-score   support\n",
      "\n",
      "           0      0.000     0.000     0.000         0\n",
      "           1      0.000     0.000     0.000         0\n",
      "           2      1.000     0.631     0.774      3109\n",
      "           3      0.000     0.000     0.000         0\n",
      "           4      0.000     0.000     0.000         0\n",
      "\n",
      "    accuracy                          0.631      3109\n",
      "   macro avg      0.200     0.126     0.155      3109\n",
      "weighted avg      1.000     0.631     0.774      3109\n",
      "\n"
     ]
    },
    {
     "name": "stderr",
     "output_type": "stream",
     "text": [
      "/usr/local/lib/python3.7/dist-packages/sklearn/metrics/_classification.py:1272: UndefinedMetricWarning: Recall is ill-defined and being set to 0.0 in labels with no true samples. Use `zero_division` parameter to control this behavior.\n",
      "  _warn_prf(average, modifier, msg_start, len(result))\n"
     ]
    },
    {
     "data": {
      "text/plain": [
       "('LR TFIDF', 0.6307494371180444, 1.0, 0.6307494371180444, 0.773570019723866)"
      ]
     },
     "execution_count": 181,
     "metadata": {
      "tags": []
     },
     "output_type": "execute_result"
    }
   ],
   "source": [
    "# Change class_weight parameter to see any impact\n",
    "lr = LogisticRegression(solver=solver, C=c, max_iter=max_iter, class_weight=None, tol=tol)\n",
    "combined_model = lr.fit(tfidf_1_train_features,train_labels)\n",
    "evaluation_summary_macro(\"LR TFIDF\", lr.predict(tfidf_1_validation_features), validation_labels)    \n",
    "evaluation_summary_weighted(\"LR TFIDF\", lr.predict(tfidf_1_validation_features), validation_labels) "
   ]
  },
  {
   "cell_type": "markdown",
   "metadata": {
    "id": "vcLSNWJ57_Iz"
   },
   "source": [
    "Change class_weight parameter from 'balance' to None increase in accuracy for prediction class2(neutral) while other prediction got zero value with lowest macro F1 score.\n",
    "As provided datasets have class imbalance when set parameter of class_weight to balanced help in adjust weights inversely ratio to class frequencies, so total accuracy of prediction may decrease while it increase in precison and recall score which affect in calculation of F1 score.\n"
   ]
  },
  {
   "cell_type": "code",
   "execution_count": 182,
   "metadata": {
    "colab": {
     "base_uri": "https://localhost:8080/"
    },
    "id": "UT18tn6c7su7",
    "outputId": "30fb40e9-9820-45ed-8427-5e278c7d68be"
   },
   "outputs": [
    {
     "name": "stdout",
     "output_type": "stream",
     "text": [
      "Evaluation(macro) for: LR TFIDF\n",
      "Classifier 'LR TFIDF' has Acc=0.166 P=0.344 R=0.336 F1=0.188\n"
     ]
    },
    {
     "name": "stderr",
     "output_type": "stream",
     "text": [
      "/usr/local/lib/python3.7/dist-packages/sklearn/metrics/_classification.py:1272: UndefinedMetricWarning: Recall is ill-defined and being set to 0.0 in labels with no true samples. Use `zero_division` parameter to control this behavior.\n",
      "  _warn_prf(average, modifier, msg_start, len(result))\n"
     ]
    },
    {
     "data": {
      "text/plain": [
       "('LR TFIDF',\n",
       " 0.1659697651978128,\n",
       " 0.3439202298750906,\n",
       " 0.3356830865896156,\n",
       " 0.18838045477142806)"
      ]
     },
     "execution_count": 182,
     "metadata": {
      "tags": []
     },
     "output_type": "execute_result"
    }
   ],
   "source": [
    "# Change C parameter\n",
    "lr = LogisticRegression(solver=solver, C=0.00001, max_iter=max_iter, class_weight=class_weight, tol=tol)\n",
    "combined_model = lr.fit(tfidf_1_train_features,train_labels)\n",
    "evaluation_summary_macro(\"LR TFIDF\", lr.predict(tfidf_1_validation_features), validation_labels)    "
   ]
  },
  {
   "cell_type": "code",
   "execution_count": 183,
   "metadata": {
    "colab": {
     "base_uri": "https://localhost:8080/"
    },
    "id": "SH1tidIPAgt5",
    "outputId": "e79e996a-eee1-4798-b6fd-f26794ef4248"
   },
   "outputs": [
    {
     "name": "stdout",
     "output_type": "stream",
     "text": [
      "Evaluation(macro) for: LR TFIDF\n",
      "Classifier 'LR TFIDF' has Acc=0.419 P=0.572 R=0.335 F1=0.322\n"
     ]
    },
    {
     "data": {
      "text/plain": [
       "('LR TFIDF',\n",
       " 0.4187841749758765,\n",
       " 0.5719548298232033,\n",
       " 0.33491012654558083,\n",
       " 0.321720498106857)"
      ]
     },
     "execution_count": 183,
     "metadata": {
      "tags": []
     },
     "output_type": "execute_result"
    }
   ],
   "source": [
    "# Change solver parameter\n",
    "lr = LogisticRegression(solver='lbfgs', C=c, max_iter=max_iter, class_weight=class_weight, tol=tol)\n",
    "combined_model = lr.fit(tfidf_1_train_features,train_labels)\n",
    "evaluation_summary_macro(\"LR TFIDF\", lr.predict(tfidf_1_validation_features), validation_labels)    "
   ]
  },
  {
   "cell_type": "code",
   "execution_count": 184,
   "metadata": {
    "colab": {
     "base_uri": "https://localhost:8080/"
    },
    "id": "4bor9PcL78PV",
    "outputId": "94fc0160-d28e-46c8-ae69-f08959f9490d"
   },
   "outputs": [
    {
     "name": "stdout",
     "output_type": "stream",
     "text": [
      "Evaluation(macro) for: LR TFIDF\n",
      "Classifier 'LR TFIDF' has Acc=0.423 P=0.574 R=0.334 F1=0.325\n"
     ]
    },
    {
     "data": {
      "text/plain": [
       "('LR TFIDF',\n",
       " 0.4232872306207784,\n",
       " 0.5744803117559827,\n",
       " 0.3342765772702036,\n",
       " 0.3246714787260212)"
      ]
     },
     "execution_count": 184,
     "metadata": {
      "tags": []
     },
     "output_type": "execute_result"
    }
   ],
   "source": [
    "# Change tol parameter\n",
    "lr = LogisticRegression(solver=solver, C=c, max_iter=max_iter, class_weight=class_weight, tol=0.001)\n",
    "combined_model = lr.fit(tfidf_1_train_features,train_labels)\n",
    "evaluation_summary_macro(\"LR TFIDF\", lr.predict(tfidf_1_validation_features), validation_labels)    "
   ]
  },
  {
   "cell_type": "markdown",
   "metadata": {
    "id": "ZC0r41bKppMG"
   },
   "source": [
    "Change tol parameter seem doesn't help in increase or decrease overall score."
   ]
  },
  {
   "cell_type": "markdown",
   "metadata": {
    "id": "XxZnjHtEV711"
   },
   "source": [
    "## Use tunning parameters of TF-IDF vectorization and Logistic Regression with hyperopt to acquire best parameters"
   ]
  },
  {
   "cell_type": "code",
   "execution_count": 176,
   "metadata": {
    "colab": {
     "base_uri": "https://localhost:8080/"
    },
    "id": "c8ExJFqkrgz-",
    "outputId": "1d6975d3-85fe-4d5a-e7b0-8cf6ae15f1ba"
   },
   "outputs": [
    {
     "name": "stdout",
     "output_type": "stream",
     "text": [
      "100%|██████████| 100/100 [24:58<00:00, 14.99s/it, best loss: 0.5605891784197127]\n"
     ]
    }
   ],
   "source": [
    "tpe_algorithm = tpe.suggest\n",
    "bayes_trials = Trials()\n",
    "obj_features = tfidf_6_train_features\n",
    "obj_labels = train_labels\n",
    "best = fmin(fn = objective, space = param, algo = tpe.suggest, max_evals = MAX_EVALS, trials = bayes_trials)\n",
    "bayes_trials_results_6 = sorted(bayes_trials.results, key = lambda x: x['loss'])"
   ]
  },
  {
   "cell_type": "code",
   "execution_count": 232,
   "metadata": {
    "colab": {
     "base_uri": "https://localhost:8080/"
    },
    "id": "-bPWLQNk2flu",
    "outputId": "2a7a479c-5421-4940-8cdf-6f8ffc8fd84f"
   },
   "outputs": [
    {
     "data": {
      "text/plain": [
       "[{'loss': 0.5605891784197127,\n",
       "  'params': {'C': 0.0007021140238796471,\n",
       "   'class_weight': 'balanced',\n",
       "   'max_iter': 4789,\n",
       "   'solver': 'saga',\n",
       "   'tol': 9.497511123379755e-05},\n",
       "  'status': 'ok'},\n",
       " {'loss': 0.5605891784197127,\n",
       "  'params': {'C': 0.0006968945194363242,\n",
       "   'class_weight': 'balanced',\n",
       "   'max_iter': 3169,\n",
       "   'solver': 'saga',\n",
       "   'tol': 5.671247831211894e-05},\n",
       "  'status': 'ok'}]"
      ]
     },
     "execution_count": 232,
     "metadata": {
      "tags": []
     },
     "output_type": "execute_result"
    }
   ],
   "source": [
    "# copy best param\n",
    "c = bayes_trials_results_6[0]['params']['C']\n",
    "class_weight = bayes_trials_results_6[0]['params']['class_weight']\n",
    "max_iter = bayes_trials_results_6[0]['params']['max_iter']\n",
    "solver = bayes_trials_results_6[0]['params']['solver']\n",
    "tol = bayes_trials_results_6[0]['params']['tol']\n",
    "\n",
    "bayes_trials_results_6[:2]"
   ]
  },
  {
   "cell_type": "code",
   "execution_count": 274,
   "metadata": {
    "colab": {
     "base_uri": "https://localhost:8080/"
    },
    "id": "Et6Njvnxm8YI",
    "outputId": "08030999-0c06-48f7-9973-1ed2ad5443f9"
   },
   "outputs": [
    {
     "name": "stdout",
     "output_type": "stream",
     "text": [
      "Evaluation(macro) for: LR TFIDF\n",
      "Classifier 'LR TFIDF' has Acc=0.474 P=0.549 R=0.364 F1=0.379\n",
      "Evaluation(weighted) for: LR TFIDF\n",
      "Classifier 'LR TFIDF' has Acc=0.474 P=0.564 R=0.474 F1=0.458\n",
      "              precision    recall  f1-score   support\n",
      "\n",
      "           0      0.562     0.222     0.319        81\n",
      "           1      0.521     0.261     0.348       564\n",
      "           2      0.362     0.781     0.495      1166\n",
      "           3      0.704     0.442     0.543      1755\n",
      "           4      0.593     0.113     0.190       450\n",
      "\n",
      "    accuracy                          0.474      4016\n",
      "   macro avg      0.549     0.364     0.379      4016\n",
      "weighted avg      0.564     0.474     0.458      4016\n",
      "\n"
     ]
    },
    {
     "data": {
      "text/plain": [
       "('LR TFIDF',\n",
       " 0.4738545816733068,\n",
       " 0.5639375001399566,\n",
       " 0.4738545816733068,\n",
       " 0.45769423441398566)"
      ]
     },
     "execution_count": 274,
     "metadata": {
      "tags": []
     },
     "output_type": "execute_result"
    }
   ],
   "source": [
    "# Using best parameters to check with testing set\n",
    "lr = LogisticRegression(solver=solver, C=c, max_iter=max_iter, class_weight=class_weight, tol=tol, random_state=10)\n",
    "combined_model = lr.fit(tfidf_6_train_features,train_labels)\n",
    "test_6 = evaluation_summary_macro(\"LR TFIDF\", lr.predict(tfidf_6_test_features), test_labels)      \n",
    "evaluation_summary_weighted(\"LR TFIDF\", lr.predict(tfidf_6_test_features), test_labels) "
   ]
  },
  {
   "cell_type": "markdown",
   "metadata": {
    "id": "f0jyzMVzYFKR"
   },
   "source": [
    "LogisticRegression with TF-IDF vectorization with default setting from Q1 has macro average score.\n",
    "\n",
    "Accuracy=0.741 Precision=0.331 Recall=0.588 F1=0.357 as baseline score."
   ]
  },
  {
   "cell_type": "markdown",
   "metadata": {
    "id": "QWJhhwN4YfJw"
   },
   "source": [
    "Model No.6 have macro average F1 score higher than baseline score of Q1 model.\n",
    "\n",
    "Model No.6: Accuracy=0.474 Precision=0.549 Recall=0.364 F1=0.379  \n"
   ]
  },
  {
   "cell_type": "markdown",
   "metadata": {
    "id": "lGcNl2rkCsJH"
   },
   "source": [
    "Q3 Add two features"
   ]
  },
  {
   "cell_type": "markdown",
   "metadata": {
    "id": "ZlIHfgC1amJ4"
   },
   "source": [
    "Find alternative option to increase overall score by using stopwords."
   ]
  },
  {
   "cell_type": "code",
   "execution_count": 34,
   "metadata": {
    "id": "w4MlP2cjaC4i"
   },
   "outputs": [],
   "source": [
    "tfidf_vectorizer_q1_stop = TfidfVectorizer(tokenizer=tokenize_normalize_stopwords)\n",
    "tfidf_q1_train_features = tfidf_vectorizer_q1_stop.fit_transform(train_data['body'])\n",
    "tfidf_q1_validation_features = tfidf_vectorizer_q1_stop.transform(validation_data['body'])\n",
    "tfidf_q1_test_features = tfidf_vectorizer_q1_stop.transform(test_data['body'])"
   ]
  },
  {
   "cell_type": "code",
   "execution_count": 36,
   "metadata": {
    "colab": {
     "base_uri": "https://localhost:8080/"
    },
    "id": "b4dUGrZTaEdP",
    "outputId": "028752aa-cf89-446c-ab8e-234787f770b1"
   },
   "outputs": [
    {
     "name": "stdout",
     "output_type": "stream",
     "text": [
      "Evaluation(macro) for: LR TFIDF stopwords\n",
      "Classifier 'LR TFIDF stopwords' has Acc=0.729 P=0.316 R=0.562 F1=0.335\n",
      "Evaluation(weighted) for: LR TFIDF stopwords\n",
      "Classifier 'LR TFIDF stopwords' has Acc=0.729 P=0.842 R=0.729 F1=0.769\n",
      "              precision    recall  f1-score   support\n",
      "\n",
      "           0      0.000     0.000     0.000         0\n",
      "           1      0.089     0.641     0.156        39\n",
      "           2      0.934     0.731     0.820      3211\n",
      "           3      0.499     0.725     0.591       759\n",
      "           4      0.058     0.714     0.108         7\n",
      "\n",
      "    accuracy                          0.729      4016\n",
      "   macro avg      0.316     0.562     0.335      4016\n",
      "weighted avg      0.842     0.729     0.769      4016\n",
      "\n"
     ]
    },
    {
     "name": "stderr",
     "output_type": "stream",
     "text": [
      "/usr/local/lib/python3.7/dist-packages/sklearn/metrics/_classification.py:1272: UndefinedMetricWarning: Recall is ill-defined and being set to 0.0 in labels with no true samples. Use `zero_division` parameter to control this behavior.\n",
      "  _warn_prf(average, modifier, msg_start, len(result))\n"
     ]
    },
    {
     "data": {
      "text/plain": [
       "('LR TFIDF stopwords',\n",
       " 0.7290836653386454,\n",
       " 0.8420449713689737,\n",
       " 0.7290836653386454,\n",
       " 0.7692526228865241)"
      ]
     },
     "execution_count": 36,
     "metadata": {
      "tags": []
     },
     "output_type": "execute_result"
    }
   ],
   "source": [
    "# Using hyperopt for finding best parameters\n",
    "lr = LogisticRegression(max_iter=1000)\n",
    "combined_model = lr.fit(tfidf_q1_train_features,train_labels)\n",
    "q1_stop = evaluation_summary_macro(\"LR TFIDF stopwords\", lr.predict(tfidf_q1_test_features), test_labels)      \n",
    "evaluation_summary_weighted(\"LR TFIDF stopwords\", lr.predict(tfidf_q1_test_features), test_labels) "
   ]
  },
  {
   "cell_type": "code",
   "execution_count": 15,
   "metadata": {
    "colab": {
     "base_uri": "https://localhost:8080/"
    },
    "id": "RTm1dbKONjtb",
    "outputId": "fe7e7b45-7fd1-4c03-db72-e133a34fa73b"
   },
   "outputs": [
    {
     "name": "stdout",
     "output_type": "stream",
     "text": [
      "[nltk_data] Downloading package stopwords to /root/nltk_data...\n",
      "[nltk_data]   Unzipping corpora/stopwords.zip.\n"
     ]
    }
   ],
   "source": [
    "import nltk\n",
    "from nltk.corpus import stopwords\n",
    "nltk.download('stopwords')\n",
    "\n",
    "all_stopwords = stopwords.words('english')\n",
    "#Tokenize\n",
    "def spacy_tokenize_stopwords(string):\n",
    "  tokens = list()\n",
    "  doc = nlp(string)\n",
    "  for token in doc:\n",
    "    if(not token.text in all_stopwords): # Remove stop words in token process\n",
    "      tokens.append(token)\n",
    "  return tokens\n",
    "\n",
    "#Normalize\n",
    "def normalize_stopwords(tokens):\n",
    "  normalized_tokens = list()\n",
    "  for token in tokens:\n",
    "    normalized = token.text.lower().strip()\n",
    "    if ((token.is_alpha or token.is_digit)):\n",
    "      normalized_tokens.append(normalized)\n",
    "  return normalized_tokens\n",
    "\n",
    "#Tokenize and normalize\n",
    "def tokenize_normalize_stopwords(string):\n",
    "  return normalize_stopwords(spacy_tokenize_stopwords(string))"
   ]
  },
  {
   "cell_type": "code",
   "execution_count": 21,
   "metadata": {
    "id": "6b6KfYR0Seh1"
   },
   "outputs": [],
   "source": [
    "tfidf_vectorizer_stopw = TfidfVectorizer(tokenizer=tokenize_normalize_stopwords, \n",
    "                                     sublinear_tf=True, ngram_range=(1,2), \n",
    "                                     max_features=25000, norm='l2')\n",
    "tfidf_stopw_train_features = tfidf_vectorizer_stopw.fit_transform(train_data['body'])\n",
    "tfidf_stopw_validation_features = tfidf_vectorizer_stopw.transform(validation_data['body'])\n",
    "tfidf_stopw_test_features = tfidf_vectorizer_stopw.transform(test_data['body'])"
   ]
  },
  {
   "cell_type": "code",
   "execution_count": 22,
   "metadata": {
    "colab": {
     "base_uri": "https://localhost:8080/"
    },
    "id": "RnnJyiRzN8D5",
    "outputId": "60df7af5-a3fa-4348-8140-6802fc6e02a5"
   },
   "outputs": [
    {
     "name": "stdout",
     "output_type": "stream",
     "text": [
      "100%|██████████| 100/100 [12:37<00:00,  7.58s/it, best loss: 0.5203389299144874]\n"
     ]
    }
   ],
   "source": [
    "tpe_algorithm = tpe.suggest\n",
    "bayes_trials = Trials()\n",
    "obj_features = tfidf_stopw_train_features\n",
    "obj_labels = train_labels\n",
    "best = fmin(fn = objective, space = param, algo = tpe.suggest, max_evals = MAX_EVALS, trials = bayes_trials)\n",
    "bayes_trials_results_stopw = sorted(bayes_trials.results, key = lambda x: x['loss'])"
   ]
  },
  {
   "cell_type": "code",
   "execution_count": 23,
   "metadata": {
    "colab": {
     "base_uri": "https://localhost:8080/"
    },
    "id": "0Gi1QcFgN9kR",
    "outputId": "050e5344-3681-41ab-d7e1-4dfe827787de"
   },
   "outputs": [
    {
     "data": {
      "text/plain": [
       "[{'loss': 0.5203389299144874,\n",
       "  'params': {'C': 0.0005435852150591212,\n",
       "   'class_weight': 'balanced',\n",
       "   'max_iter': 1407,\n",
       "   'solver': 'saga',\n",
       "   'tol': 9.997269802219947e-05},\n",
       "  'status': 'ok'},\n",
       " {'loss': 0.5203389299144874,\n",
       "  'params': {'C': 0.0005443998543062312,\n",
       "   'class_weight': 'balanced',\n",
       "   'max_iter': 4487,\n",
       "   'solver': 'saga',\n",
       "   'tol': 9.164387312463808e-05},\n",
       "  'status': 'ok'}]"
      ]
     },
     "execution_count": 23,
     "metadata": {
      "tags": []
     },
     "output_type": "execute_result"
    }
   ],
   "source": [
    "# copy best param\n",
    "c = bayes_trials_results_stopw[0]['params']['C']\n",
    "class_weight = bayes_trials_results_stopw[0]['params']['class_weight']\n",
    "max_iter = bayes_trials_results_stopw[0]['params']['max_iter']\n",
    "solver = bayes_trials_results_stopw[0]['params']['solver']\n",
    "tol = bayes_trials_results_stopw[0]['params']['tol']\n",
    "\n",
    "bayes_trials_results_stopw[:2]"
   ]
  },
  {
   "cell_type": "code",
   "execution_count": 34,
   "metadata": {
    "colab": {
     "base_uri": "https://localhost:8080/"
    },
    "id": "k4oQsN0ofg_3",
    "outputId": "d5deeacc-0816-451d-98b6-eeac5d315a50"
   },
   "outputs": [
    {
     "name": "stdout",
     "output_type": "stream",
     "text": [
      "Evaluation(macro) for: LR TFIDF tunning+stopwords\n",
      "Classifier 'LR TFIDF tunning+stopwords' has Acc=0.611 P=0.605 R=0.411 F1=0.450\n",
      "Evaluation(weighted) for: LR TFIDF tunning+stopwords\n",
      "Classifier 'LR TFIDF tunning+stopwords' has Acc=0.611 P=0.612 R=0.611 F1=0.589\n",
      "              precision    recall  f1-score   support\n",
      "\n",
      "           0      0.656     0.142     0.233       148\n",
      "           1      0.543     0.321     0.404       476\n",
      "           2      0.599     0.817     0.691      1842\n",
      "           3      0.657     0.540     0.593      1340\n",
      "           4      0.570     0.233     0.331       210\n",
      "\n",
      "    accuracy                          0.611      4016\n",
      "   macro avg      0.605     0.411     0.450      4016\n",
      "weighted avg      0.612     0.611     0.589      4016\n",
      "\n"
     ]
    },
    {
     "data": {
      "text/plain": [
       "('LR TFIDF tunning+stopwords',\n",
       " 0.6105577689243028,\n",
       " 0.612077512175073,\n",
       " 0.6105577689243028,\n",
       " 0.588546861984038)"
      ]
     },
     "execution_count": 34,
     "metadata": {
      "tags": []
     },
     "output_type": "execute_result"
    }
   ],
   "source": [
    "# Using hyperopt with stopwords for finding best parameters\n",
    "lr = LogisticRegression(solver=solver, C=c, max_iter=max_iter, class_weight=class_weight, tol=tol, random_state=40)\n",
    "combined_model = lr.fit(tfidf_stopw_train_features,train_labels)\n",
    "opt_stopw = evaluation_summary_macro(\"LR TFIDF tunning+stopwords\", lr.predict(tfidf_stopw_test_features), test_labels)      \n",
    "evaluation_summary_weighted(\"LR TFIDF tunning+stopwords\", lr.predict(tfidf_stopw_test_features), test_labels) "
   ]
  },
  {
   "cell_type": "markdown",
   "metadata": {
    "id": "agcLRLASTwm2"
   },
   "source": [
    "Model that apply stopwords in tokenization acheive higher than previous one \n",
    "\n",
    "Accuracy=0.611 Precision=0.605 Recall=0.411 F1=0.450"
   ]
  },
  {
   "cell_type": "markdown",
   "metadata": {
    "id": "pHcKhnYjGjP6"
   },
   "source": [
    "# **Q3 Adding Features**"
   ]
  },
  {
   "cell_type": "code",
   "execution_count": 100,
   "metadata": {
    "colab": {
     "base_uri": "https://localhost:8080/"
    },
    "id": "UY1pHRSsalFg",
    "outputId": "a9fafb94-8e3b-4c52-8743-c3be93298cf5"
   },
   "outputs": [
    {
     "name": "stdout",
     "output_type": "stream",
     "text": [
      "[nltk_data] Downloading package stopwords to /root/nltk_data...\n",
      "[nltk_data]   Package stopwords is already up-to-date!\n",
      "[nltk_data] Downloading package tagsets to /root/nltk_data...\n",
      "[nltk_data]   Package tagsets is already up-to-date!\n"
     ]
    }
   ],
   "source": [
    "import nltk\n",
    "from nltk.corpus import stopwords\n",
    "nltk.download('stopwords')\n",
    "nltk.download('tagsets')\n",
    "\n",
    "all_stopwords = stopwords.words('english')\n",
    "\n",
    "#Tokenize\n",
    "def spacy_tokenize_postag(string):\n",
    "  tokens = list()\n",
    "  doc = nlp(string)\n",
    "  for token in doc:\n",
    "    if(not token.text in all_stopwords): # Remove stop words in token process\n",
    "      tokens.append(token)\n",
    "  return tokens\n",
    "\n",
    "#Normalize\n",
    "def normalize_postag(tokens):\n",
    "  normalized_tokens = list()\n",
    "  for token in tokens:\n",
    "    normalized = token.text.lower().strip()\n",
    "    if ((token.is_alpha or token.is_digit)):\n",
    "      normalized_tokens.append(normalized)\n",
    "  norm_tag = nltk.pos_tag(normalized_tokens) # Part of speech tagging\n",
    "  \n",
    "  return [tag[1] for tag in norm_tag]\n",
    "\n",
    "#Tokenize and normalize\n",
    "def tokenize_normalize_postag(string):\n",
    "  return ' '.join(normalize_postag(spacy_tokenize_postag(string)))"
   ]
  },
  {
   "cell_type": "code",
   "execution_count": 94,
   "metadata": {
    "colab": {
     "base_uri": "https://localhost:8080/",
     "height": 35
    },
    "id": "cTdXvCamalFh",
    "outputId": "1d820132-e9ab-433e-8f7c-16308e08ebef"
   },
   "outputs": [
    {
     "data": {
      "application/vnd.google.colaboratory.intrinsic+json": {
       "type": "string"
      },
      "text/plain": [
       "'PRP JJ NN'"
      ]
     },
     "execution_count": 94,
     "metadata": {
      "tags": []
     },
     "output_type": "execute_result"
    }
   ],
   "source": [
    "tokenize_normalize_postag(ex_sen)"
   ]
  },
  {
   "cell_type": "code",
   "execution_count": 101,
   "metadata": {
    "id": "HaZ17cfuqcMS"
   },
   "outputs": [],
   "source": [
    "train_data['postags'] = train_data['body'].apply(tokenize_normalize_postag)\n",
    "validation_data['postags'] = validation_data['body'].apply(tokenize_normalize_postag)\n",
    "test_data['postags'] = test_data['body'].apply(tokenize_normalize_postag)"
   ]
  },
  {
   "cell_type": "code",
   "execution_count": 224,
   "metadata": {
    "colab": {
     "base_uri": "https://localhost:8080/",
     "height": 168
    },
    "id": "QnOZ3xqb2ERX",
    "outputId": "2f2ce088-0589-4e6c-b022-7c6b9a8386c3"
   },
   "outputs": [
    {
     "data": {
      "text/html": [
       "<div>\n",
       "<style scoped>\n",
       "    .dataframe tbody tr th:only-of-type {\n",
       "        vertical-align: middle;\n",
       "    }\n",
       "\n",
       "    .dataframe tbody tr th {\n",
       "        vertical-align: top;\n",
       "    }\n",
       "\n",
       "    .dataframe thead th {\n",
       "        text-align: right;\n",
       "    }\n",
       "</style>\n",
       "<table border=\"1\" class=\"dataframe\">\n",
       "  <thead>\n",
       "    <tr style=\"text-align: right;\">\n",
       "      <th></th>\n",
       "      <th>subreddit</th>\n",
       "      <th>title</th>\n",
       "      <th>id</th>\n",
       "      <th>url</th>\n",
       "      <th>author</th>\n",
       "      <th>body</th>\n",
       "      <th>majority_type</th>\n",
       "      <th>is_first_post</th>\n",
       "      <th>post_depth</th>\n",
       "      <th>in_reply_to</th>\n",
       "      <th>sentiment.polarity</th>\n",
       "      <th>sentiment.subjectivity</th>\n",
       "      <th>Class</th>\n",
       "      <th>postags</th>\n",
       "    </tr>\n",
       "  </thead>\n",
       "  <tbody>\n",
       "    <tr>\n",
       "      <th>0</th>\n",
       "      <td>relationships</td>\n",
       "      <td>My Friend/Crush [22/F] acting weird after I [2...</td>\n",
       "      <td>t1_cy7f317</td>\n",
       "      <td>https://www.reddit.com/r/relationships/comment...</td>\n",
       "      <td>Melodrama_</td>\n",
       "      <td>It's a sad realization, isn't it?</td>\n",
       "      <td></td>\n",
       "      <td>False</td>\n",
       "      <td>2</td>\n",
       "      <td>t1_cy7erc5</td>\n",
       "      <td>negative</td>\n",
       "      <td>1.0</td>\n",
       "      <td>1</td>\n",
       "      <td>PRP JJ NN</td>\n",
       "    </tr>\n",
       "  </tbody>\n",
       "</table>\n",
       "</div>"
      ],
      "text/plain": [
       "       subreddit  ...    postags\n",
       "0  relationships  ...  PRP JJ NN\n",
       "\n",
       "[1 rows x 14 columns]"
      ]
     },
     "execution_count": 224,
     "metadata": {
      "tags": []
     },
     "output_type": "execute_result"
    }
   ],
   "source": [
    "train_data.head(1)"
   ]
  },
  {
   "cell_type": "code",
   "execution_count": 64,
   "metadata": {
    "id": "tUiV1TLOG3vw"
   },
   "outputs": [],
   "source": [
    "from sklearn.base import BaseEstimator, TransformerMixin\n",
    "\n",
    "class ItemSelector(BaseEstimator, TransformerMixin):\n",
    "    \"\"\"For data grouped by feature, select subset of data at a provided key.    \"\"\"\n",
    "\n",
    "    def __init__(self, key):\n",
    "        self.key = key\n",
    "\n",
    "    def fit(self, x, y=None):\n",
    "        return self\n",
    "\n",
    "    def transform(self, data_dict):\n",
    "        return data_dict[self.key]"
   ]
  },
  {
   "cell_type": "code",
   "execution_count": 99,
   "metadata": {
    "id": "r1n92fm8Oy3E"
   },
   "outputs": [],
   "source": [
    "from sklearn.metrics import classification_report\n",
    "from sklearn.metrics import confusion_matrix\n",
    "from sklearn.metrics import precision_score\n",
    "from sklearn.metrics import recall_score\n",
    "from sklearn.metrics import accuracy_score\n",
    "from sklearn.metrics import fbeta_score\n",
    "\n",
    "def evaluation_summary_macro_con(description, predictions, true_labels):\n",
    "  print(\"Evaluation(macro) for: \" + description)\n",
    "  precision = precision_score(predictions, true_labels, average='macro')\n",
    "  recall = recall_score(predictions, true_labels, average='macro')\n",
    "  accuracy = accuracy_score(predictions, true_labels)\n",
    "  f1 = fbeta_score(predictions, true_labels, 1, average='macro') #1 means f_1 measure\n",
    "  print(\"Classifier '%s' has Acc=%0.3f P=%0.3f R=%0.3f F1=%0.3f\" % (description,accuracy,precision,recall,f1))\n",
    "  #print(classification_report(predictions, true_labels, digits=3, zero_division = 0))\n",
    "  print('\\nConfusion matrix:\\n',confusion_matrix(true_labels, predictions)) # Note the order here is true, predicted\n",
    "  return description,accuracy,precision,recall,f1\n",
    "\n",
    "def evaluation_summary_weighted_con(description, predictions, true_labels):\n",
    "  print(\"Evaluation(weighted) for: \" + description)\n",
    "  precision = precision_score(predictions, true_labels, average='weighted')\n",
    "  recall = recall_score(predictions, true_labels, average='weighted')\n",
    "  accuracy = accuracy_score(predictions, true_labels)\n",
    "  f1 = fbeta_score(predictions, true_labels, 1, average='weighted') #1 means f_1 measure\n",
    "  print(\"Classifier '%s' has Acc=%0.3f P=%0.3f R=%0.3f F1=%0.3f\" % (description,accuracy,precision,recall,f1))\n",
    "  print(classification_report(predictions, true_labels, digits=3, zero_division = 0))\n",
    "  print('\\nConfusion matrix:\\n',confusion_matrix(true_labels, predictions)) # Note the order here is true, predicted\n",
    "  return description,accuracy,precision,recall,f1"
   ]
  },
  {
   "cell_type": "code",
   "execution_count": 98,
   "metadata": {
    "id": "YfmvAoQ1ZIpS"
   },
   "outputs": [],
   "source": [
    "from sklearn.pipeline import FeatureUnion\n",
    "from sklearn.pipeline import Pipeline\n",
    "from sklearn.feature_extraction.text import TfidfVectorizer\n",
    "\n",
    "# Use Pipline with feature union adding postags features\n",
    "\n",
    "union_pipeline = Pipeline([\n",
    "          ('union', FeatureUnion(\n",
    "          transformer_list=[\n",
    "            ('body', Pipeline([\n",
    "              ('selector', ItemSelector(key='body')),\n",
    "              ('tf-idf', TfidfVectorizer(tokenizer=tokenize_normalize_stopwords, sublinear_tf=True, \n",
    "                                         ngram_range=(1,2), max_features=25000, norm='l2')),\n",
    "              ])),\n",
    "            ('postags', Pipeline([\n",
    "              ('selector', ItemSelector(key='postags')),\n",
    "              ('tf-idf', TfidfVectorizer(sublinear_tf=True, ngram_range=(2,2))),\n",
    "              ])),\n",
    "          ])\n",
    "          )\n",
    "       ])"
   ]
  },
  {
   "cell_type": "code",
   "execution_count": 102,
   "metadata": {
    "id": "-rZfVTTGZI1p"
   },
   "outputs": [],
   "source": [
    "tfidf_union_train_features = union_pipeline.fit_transform(train_data)\n",
    "tfidf_union_validation_features = union_pipeline.transform(validation_data)\n",
    "tfidf_union_test_features = union_pipeline.transform(test_data)"
   ]
  },
  {
   "cell_type": "code",
   "execution_count": null,
   "metadata": {
    "id": "rJBHZFHjZI1p"
   },
   "outputs": [],
   "source": [
    "tpe_algorithm = tpe.suggest\n",
    "bayes_trials = Trials()\n",
    "obj_features = tfidf_union_train_features\n",
    "obj_labels = train_labels\n",
    "best = fmin(fn = objective, space = param, algo = tpe.suggest, max_evals = MAX_EVALS, trials = bayes_trials)\n",
    "bayes_trials_results_union = sorted(bayes_trials.results, key = lambda x: x['loss'])"
   ]
  },
  {
   "cell_type": "code",
   "execution_count": null,
   "metadata": {
    "id": "Mk5KjipFZI1p"
   },
   "outputs": [],
   "source": [
    "# copy best param\n",
    "c = bayes_trials_results_union[0]['params']['C']\n",
    "class_weight = bayes_trials_results_union[0]['params']['class_weight']\n",
    "max_iter = bayes_trials_results_union[0]['params']['max_iter']\n",
    "solver = bayes_trials_results_union[0]['params']['solver']\n",
    "tol = bayes_trials_results_union[0]['params']['tol']"
   ]
  },
  {
   "cell_type": "code",
   "execution_count": null,
   "metadata": {
    "id": "IJdS22nbSGX0"
   },
   "outputs": [],
   "source": [
    "# Using best parameters to check with testing set\n",
    "lr_union = LogisticRegression(solver=solver, C=c, max_iter=max_iter, class_weight=class_weight, tol=tol, random_state=10)\n",
    "combined_model = lr_union.fit(tfidf_union_train_features,train_labels)"
   ]
  },
  {
   "cell_type": "code",
   "execution_count": null,
   "metadata": {
    "id": "H0rqBKi4hs0v"
   },
   "outputs": [],
   "source": [
    "print(evaluation_summary_macro_con(\"LR TFIDF union feature\", lr_union.predict(tfidf_union_test_features2), test_labels))\n",
    "print(evaluation_summary_weighted_con(\"LR TFIDF union feature\", lr_union.predict(tfidf_union_test_features2), test_labels))   "
   ]
  },
  {
   "cell_type": "code",
   "execution_count": 61,
   "metadata": {
    "id": "dJMMksjSLWDe"
   },
   "outputs": [],
   "source": [
    "union_list_macro = list()\n",
    "union_list_weighted = list()"
   ]
  },
  {
   "cell_type": "code",
   "execution_count": 221,
   "metadata": {
    "colab": {
     "base_uri": "https://localhost:8080/"
    },
    "id": "M_4DYiVcG3vx",
    "outputId": "cdd95183-58ba-44d0-c23f-52d3edfc602e"
   },
   "outputs": [
    {
     "name": "stdout",
     "output_type": "stream",
     "text": [
      "Evaluation(macro) for: LR TFIDF union feature\n",
      "Classifier 'LR TFIDF union feature' has Acc=0.270 P=0.397 R=0.265 F1=0.203\n",
      "\n",
      "Confusion matrix:\n",
      " [[  15    4    3    4    6]\n",
      " [  45   72   34   88   43]\n",
      " [ 331  233  306 1120  524]\n",
      " [  98   89   77  643  195]\n",
      " [   7    7    7   17   48]]\n"
     ]
    }
   ],
   "source": [
    "union_list_macro.append(evaluation_summary_macro_con(\"LR TFIDF union feature\", lr_union.predict(tfidf_union_test_features), test_labels))  "
   ]
  },
  {
   "cell_type": "code",
   "execution_count": 222,
   "metadata": {
    "colab": {
     "base_uri": "https://localhost:8080/"
    },
    "id": "d1y7MUE4PC-2",
    "outputId": "5c75a6d0-c6fc-4439-9585-e1da4c6638c1"
   },
   "outputs": [
    {
     "name": "stdout",
     "output_type": "stream",
     "text": [
      "Evaluation(weighted) for: LR TFIDF union feature\n",
      "Classifier 'LR TFIDF union feature' has Acc=0.270 P=0.482 R=0.270 F1=0.273\n",
      "              precision    recall  f1-score   support\n",
      "\n",
      "           0      0.469     0.030     0.057       496\n",
      "           1      0.255     0.178     0.210       405\n",
      "           2      0.122     0.717     0.208       427\n",
      "           3      0.583     0.343     0.432      1872\n",
      "           4      0.558     0.059     0.106       816\n",
      "\n",
      "    accuracy                          0.270      4016\n",
      "   macro avg      0.397     0.265     0.203      4016\n",
      "weighted avg      0.482     0.270     0.273      4016\n",
      "\n",
      "\n",
      "Confusion matrix:\n",
      " [[  15    4    3    4    6]\n",
      " [  45   72   34   88   43]\n",
      " [ 331  233  306 1120  524]\n",
      " [  98   89   77  643  195]\n",
      " [   7    7    7   17   48]]\n"
     ]
    }
   ],
   "source": [
    "union_list_weighted.append(evaluation_summary_weighted_con(\"LR TFIDF union feature\", lr_union.predict(tfidf_union_test_features), test_labels))  "
   ]
  }
 ],
 "metadata": {
  "colab": {
   "collapsed_sections": [],
   "name": "Copy of TaD Coursework Skeleton 2021 - May-June",
   "provenance": []
  },
  "kernelspec": {
   "display_name": "Python 3",
   "language": "python",
   "name": "python3"
  },
  "language_info": {
   "codemirror_mode": {
    "name": "ipython",
    "version": 3
   },
   "file_extension": ".py",
   "mimetype": "text/x-python",
   "name": "python",
   "nbconvert_exporter": "python",
   "pygments_lexer": "ipython3",
   "version": "3.8.5"
  }
 },
 "nbformat": 4,
 "nbformat_minor": 1
}
